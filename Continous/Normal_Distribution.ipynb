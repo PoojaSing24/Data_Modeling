#fitting normal distribution
import numpy as np
import pandas as pd
import matplotlib.pyplot as plt
import math
from scipy.integrate import quad
import csv
#import given data
#data=pd.read_csv("n3.csv")
#1d array-
data = [float(item) for row in csv.reader(open('n3.csv', newline='')) for item in row]
print(data)

N = len(data)
print("total" , N)
#plot scatter
datax=data
datay=data
x = np.delete(datax ,0)
y = np.delete(datay , N-1)

plt.scatter(x , y , c="red")
plt.show()
#find frequency table

def freq_count(data, l, u):
    count = 0
    for i in data:
        if l <= i < u:
            count += 1
    return count
#create intervals

upper = max(data)
lower = min(data)
interval_no = 10   #total no. of intervals
interval_size = round((upper - lower) / interval_no, 4)  #find size

freq_interval = {}

for x in range(interval_no):
    lower_interval = lower + x * interval_size
    upper_interval = lower_interval + interval_size
    interval_range = f"({round(lower_interval, 4)}-{round(upper_interval, 4)}]"
    freq_interval[interval_range] = freq_count(data, lower_interval, upper_interval)
    
if(round(upper_interval  , 4) <=  upper):
    freq_interval[list(freq_interval.keys())[-1]] += 1 
            

#print(freq_interval)
print("interval\t\tfreq")
for i ,j in freq_interval.items():
    print(i,"\t" , j)
    
#plot hostrogram
# plotting the histogram
def plot_histogram(freq_interval , interval_no):
    x = [i for i in range(1, interval_no + 1)]
    y = list(freq_interval.values())
    plt.bar(x ,  y ,  color='g')
    plt.show()
    return None

#func call
plot_histogram(freq_interval, interval_no)
interval = []
obs_freq = []

for i ,table in freq_interval.items():
    interval.append(i)
    obs_freq.append(table)
print("interval:" ,interval)
print("freq",obs_freq) 
#find mean and variance--
sum_fi = len(data)
print("total element:" ,sum_fi)

sum_fixi = 0
for i in data:
    sum_fixi = sum_fixi + i
print("sum_fixi:" , sum_fixi)

mean = sum_fixi / sum_fi  
#mean = np.mean(data)
print("mean:" , mean)


#variance 
var = np.var(data)
print("variance:" ,var)
#standard deviantion--
stand_dev = np.sqrt(var)
print("standard deviation:",stand_dev)
#print(np.std(data))

#value of e
e_value = math.e
#print("e :",e_value)
#print(math.pi)
r2pi =math.sqrt(2 *3.141592653589793 )
#print(r2pi)
#normal distribution-
#pdf of normal 
def normal_pdf(x ):
      pdf =(1 / (stand_dev * r2pi )) * e_value**(-((x - mean) ** 2) / (2 * stand_dev ** 2))
      return pdf

result = normal_pdf(x)
#area under curve--
def AUC(fun , a , b , n):
    # height of each small trepezium
    h = abs(b-a)/n
    area = 0 # intilization of area as 0
    
    # calculating and sum of all small-small trapeziums
    for i in range(n):
        A = a + i * h
        B = a + (i + 1) * h
        area += (fun(A) + fun(B)) * h / 2 

    return area

#example---
#def fun(x):
 #   return x**2

#print(AUC(fun, 0, 1, 100))


#seperated upper and lower limit for each interval
l = []
u = []

for interval in interval:
    # Remove parentheses and split by '-'
    interval_values = interval.strip('()[]').split('-')
    
    # Convert the values to float and append to lower and upper limits lists
    l.append(float(interval_values[0]))
    u.append(float(interval_values[1]))

print("Lower Limits:", l)
print("Upper Limits:", u)

#find expected freq--
exp_freq = []

for i in range(len(l)):
    pdf_value = AUC(normal_pdf, l[i], u[i], 100)
    exp_freq.append(pdf_value * sum_fi)

print("Expected Frequency:", exp_freq)

#print("lower\t\tupper\t\tobs_freq\t\texp_freq")
#for i in range(len(l)):
#    print(l[i],"\t",u[i],"\t",obs_freq[i],"\t",exp_freq[i])


print("Lower".ljust(10), "Upper".ljust(10), "Obs_Freq".ljust(10), "Exp_Freq".ljust(10))
for i in range(len(l)):
    print(str(l[i]).ljust(10), str(u[i]).ljust(10), str(obs_freq[i]).ljust(10), str(exp_freq[i]).ljust(10))

#appy chi squr test
#merge table------------------------
L = []
U = []
O = []
E = []

i = 0
while i < len(exp_freq):
    if exp_freq[i] >= 5:
        L.append(l[i])
        U.append(u[i])
        O.append(obs_freq[i])
        E.append(exp_freq[i])
        i += 1
    else:
        sum_l = l[i]
        sum_u = u[i]
        sum_exp = exp_freq[i]
        sum_obs = obs_freq[i]
        i += 1
        while i < len(exp_freq) and sum_exp <= 5:
            sum_exp += exp_freq[i]
            sum_l = min(sum_l, l[i])
            sum_u = u[i]  # Update upper limit
            sum_obs += obs_freq[i]
            i += 1
        # Check if the last interval is merged
        if i == len(exp_freq):
            L[-1] = min(L[-1], sum_l)
            U[-1] = sum_u  # Update upper limit of the last merged interval
            O[-1] += sum_obs
            E[-1] += sum_exp
        else:
            L.append(sum_l)
            U.append(sum_u)
            O.append(sum_obs)
            E.append(sum_exp)

print("Lower".ljust(10), "Upper".ljust(10), "Obs_Freq".ljust(10), "Exp_Freq".ljust(10))
for i in range(len(L)):
    print(str(L[i]).ljust(10), str(U[i]).ljust(10), str(O[i]).ljust(10), str(E[i]).ljust(10))

#apply chi square test-------------
# chi-sqr = (Oi - Ei)^2 / Ei  

def chi_sqr(E , O):
    return ((O - E)**2) / E
chi_test = []

for i in range(len(E)):
    chi = ((O[i] - E[i])**2) / E[i]
    chi_test.append(chi)
print(chi_test)
# Display all values
print("Lower".ljust(10), "Upper".ljust(10), "Obs_Freq".ljust(10), "Exp_Freq".ljust(10), "\t\t" "Chi-Sq".ljust(10))
for i in range(len(L)):
    print(str(L[i]).ljust(10), str(U[i]).ljust(10), str(O[i]).ljust(10), str(E[i]).ljust(10), "\t", str(chi_test[i]).ljust(10))

#sumation  or chi-value
chi_value = sum(chi_test)
print("sum of chi_values is:" , chi_value)
# Calculate the degree of freedom  formula : No_of_intervals - No_of_parameters -1
#k = no. if intervals
#s = no. of parameters

No_of_intervals = len(L)
no_of_parameter = 2

DOF= No_of_intervals - no_of_parameter- 1

#value of alpha is--
significance_level=0.05   
print("Degree of freedom : ",DOF)

# calculate chi_squre_value
sum_chi_test = sum(chi_test)
print("chi srq value is calculates:",sum_chi_test)


# chi_square value in table on given significate level

chi_square_value_in_table = 7.815
print("chi-Square value in table : ",chi_square_value_in_table)

if sum_chi_test <= chi_square_value_in_table:
  print("Accepted Normal distribution")
else:
  print("Rejected Normal distribution")
