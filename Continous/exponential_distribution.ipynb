{
 "cells": [
  {
   "cell_type": "code",
   "execution_count": 320,
   "metadata": {},
   "outputs": [],
   "source": [
    "#fitting exponential distribution--"
   ]
  },
  {
   "cell_type": "code",
   "execution_count": 321,
   "metadata": {},
   "outputs": [],
   "source": [
    "#for gamma distribution\n",
    "import numpy as np\n",
    "import pandas as pd\n",
    "import matplotlib.pyplot as plt\n",
    "import math\n"
   ]
  },
  {
   "cell_type": "code",
   "execution_count": 322,
   "metadata": {},
   "outputs": [
    {
     "name": "stdout",
     "output_type": "stream",
     "text": [
      "total value: 499\n"
     ]
    }
   ],
   "source": [
    "data = pd.read_csv(\"1.csv\")\n",
    "#print(data)\n",
    "N = len(data)\n",
    "print(\"total value:\",N)"
   ]
  },
  {
   "cell_type": "code",
   "execution_count": 323,
   "metadata": {},
   "outputs": [
    {
     "name": "stdout",
     "output_type": "stream",
     "text": [
      "[0.078, 0.2, 2.037, 1.735, 0.12, 1.444, 0.853, 1.302, 1.343, 1.721, 0.32, 0.158, 0.517, 1.042, 1.625, 0.047, 0.66, 1.768, 0.142, 0.677, 0.183, 0.005, 0.567, 1.507, 1.367, 0.098, 1.386, 1.114, 1.085, 0.629, 0.44, 0.304, 0.733, 0.265, 0.068, 0.233, 0.177, 2.208, 1.031, 0.4, 0.335, 0.696, 1.984, 0.106, 0.009, 0.513, 0.086, 1.065, 0.261, 1.244, 0.353, 0.8, 0.927, 0.263, 0.195, 0.258, 1.401, 1.035, 0.374, 0.52, 0.595, 2.122, 0.838, 1.027, 0.161, 1.388, 0.969, 0.682, 0.584, 0.774, 0.633, 0.147, 2.499, 2.885, 3.096, 0.709, 0.86, 0.245, 0.886, 0.249, 1.295, 0.604, 1.05, 1.584, 3.319, 0.877, 4.027, 0.807, 1.853, 0.372, 0.452, 0.385, 0.342, 0.591, 0.959, 1.203, 1.911, 0.06, 0.439, 0.904, 0.152, 0.682, 0.046, 0.213, 3.932, 0.764, 1.208, 0.101, 0.407, 0.191, 0.217, 0.102, 0.151, 0.301, 0.11, 0.036, 0.084, 0.542, 0.356, 0.044, 0.938, 0.104, 0.72, 1.398, 1.257, 3.201, 1.039, 2.119, 1.361, 0.72, 0.427, 1.329, 1.506, 0.32, 0.122, 1.485, 1.317, 0.736, 2.766, 1.416, 0.401, 0.071, 0.263, 1.029, 0.172, 0.412, 0.644, 0.916, 0.323, 0.344, 1.723, 2.198, 0.812, 0.164, 0.564, 0.072, 0.071, 1.441, 0.101, 1.771, 0.875, 2.503, 0.391, 0.196, 2.638, 0.044, 0.525, 0.844, 0.57, 0.438, 2.142, 0.009, 0.403, 1.324, 0.031, 1.151, 1.134, 3.057, 0.228, 1.622, 0.456, 0.098, 1.284, 3.657, 0.48, 0.048, 0.803, 1.096, 0.939, 0.238, 0.335, 0.076, 0.406, 0.704, 1.222, 0.063, 0.127, 0.113, 0.099, 0.907, 0.177, 0.87, 0.232, 2.874, 2.234, 0.969, 2.06, 1.265, 0.428, 0.41, 0.398, 0.457, 0.328, 2.604, 0.885, 0.301, 0.058, 2.742, 1.979, 0.264, 1.382, 0.208, 0.357, 0.093, 0.793, 0.137, 0.675, 0.464, 2.299, 1.441, 0.785, 0.403, 0.967, 0.924, 0.393, 0.302, 0.944, 0.083, 0.538, 0.898, 0.451, 0.188, 0.125, 1.844, 0.899, 3.804, 3.642, 0.434, 0.784, 0.067, 1.133, 1.681, 0.785, 0.145, 1.93, 1.419, 2.225, 1.425, 4.906, 0.998, 0.562, 0.268, 1.326, 1.248, 0.282, 0.217, 0.771, 0.536, 0.15, 0.964, 0.347, 0.965, 0.759, 2.19, 0.478, 0.15, 0.221, 2.142, 1.799, 0.182, 2.068, 0.655, 1.672, 1.065, 0.045, 0.408, 0.089, 0.3, 2.25, 3.437, 1.376, 0.276, 0.119, 3.314, 2.74, 0.882, 0.974, 0.839, 1.45, 0.069, 0.207, 0.285, 0.76, 0.006, 0.397, 0.012, 1.239, 0.121, 0.357, 1.464, 0.157, 0.409, 1.734, 1.369, 1.196, 0.442, 0.231, 0.042, 1.155, 0.04, 1.601, 0.234, 0.973, 0.358, 0.372, 0.432, 0.697, 0.566, 0.494, 1.642, 3.847, 0.009, 0.042, 0.866, 0.346, 0.49, 0.224, 0.796, 2.153, 1.101, 3.319, 0.078, 0.465, 0.067, 0.881, 2.197, 0.456, 1.386, 3.66, 0.012, 0.946, 0.37, 0.127, 0.426, 0.396, 3.346, 0.548, 0.931, 0.911, 0.195, 1.485, 0.12, 0.714, 1.749, 0.228, 0.198, 0.395, 0.416, 0.409, 0.657, 0.154, 0.867, 0.164, 1.166, 0.443, 0.139, 1.408, 0.338, 0.002, 1.788, 0.104, 1.272, 0.752, 0.399, 0.199, 1.992, 0.566, 0.601, 1.063, 0.355, 3.442, 0.866, 3.851, 0.057, 0.985, 0.116, 0.178, 0.257, 5.674, 0.725, 0.102, 0.41, 0.266, 1.013, 0.864, 0.122, 1.31, 2.185, 0.237, 0.097, 0.487, 1.559, 0.488, 0.413, 0.329, 1.039, 0.313, 0.144, 0.237, 0.969, 0.604, 0.987, 0.585, 0.339, 0.396, 0.725, 0.191, 0.751, 0.147, 0.147, 0.164, 0.62, 0.954, 1.797, 0.115, 0.188, 1.44, 1.13, 1.075, 0.77, 0.215, 0.125, 0.456, 1.81, 0.14, 1.724, 0.442, 1.486, 0.092, 0.714, 2.41, 0.771, 0.189, 1.379, 0.809, 2.137, 0.268, 1.448, 0.223, 0.433, 3.783, 0.035, 2.73, 0.425, 1.32, 0.385, 0.1, 0.103, 0.108, 0.442, 0.132, 1.44, 1.03, 1.173, 1.457, 0.509, 0.241, 0.528, 1.558, 4.018, 1.021, 2.818, 1.208, 0.18, 0.567, 1.376, 1.283, 3.268, 0.338, 0.09, 0.175, 5.263, 0.5, 0.059, 1.346, 4.227, 0.413, 1.099, 1.39, 0.003]\n"
     ]
    }
   ],
   "source": [
    "import csv\n",
    "data = [float(item) for row in csv.reader(open('1.csv' , newline='')) for item in row]\n",
    "print(data)"
   ]
  },
  {
   "cell_type": "code",
   "execution_count": 324,
   "metadata": {},
   "outputs": [
    {
     "data": {
      "image/png": "[encoded data removed]",
      "text/plain": [
       "<Figure size 640x480 with 1 Axes>"
      ]
     },
     "metadata": {},
     "output_type": "display_data"
    }
   ],
   "source": [
    "#scatter plot\n",
    "N =len(data)\n",
    "datax=data\n",
    "datay=data\n",
    "x = np.delete(datax ,0)\n",
    "y = np.delete(datay , N-1)\n",
    "\n",
    "plt.scatter(x , y , c=\"red\")\n",
    "plt.show()"
   ]
  },
  {
   "cell_type": "code",
   "execution_count": 325,
   "metadata": {},
   "outputs": [
    {
     "name": "stdout",
     "output_type": "stream",
     "text": [
      "constant exp frq: 25.0\n",
      "probability of each interval : 0.05\n",
      "mean: 0.900348\n",
      "Lambda: 1.1106816475407286\n"
     ]
    }
   ],
   "source": [
    "#give no of intervals is 50\n",
    "#interval = input(\"enter value:\")  #50 interval tayar hotil\n",
    "interval =20\n",
    "freq = N / interval\n",
    "print(\"constant exp frq:\",freq)    #constant  exp_freq\n",
    "p = 1 / interval  #probability for each interval\n",
    "print(\"probability of each interval :\",p)\n",
    "\n",
    "#mean =\n",
    "mean = np.mean(data)\n",
    "print(\"mean:\",mean)\n",
    "#lambha = 1 /mean\n",
    "L =1 / mean\n",
    "print(\"Lambda:\",L)"
   ]
  },
  {
   "cell_type": "code",
   "execution_count": 326,
   "metadata": {},
   "outputs": [
    {
     "name": "stdout",
     "output_type": "stream",
     "text": [
      "upper limit: 5.674\n",
      "lower: 0.002\n"
     ]
    }
   ],
   "source": [
    "#find upper and lower limit------------\n",
    "upper = max(data)\n",
    "print(\"upper limit:\" , upper)\n",
    "\n",
    "lower = min(data)\n",
    "print(\"lower:\" , lower)"
   ]
  },
  {
   "cell_type": "code",
   "execution_count": 327,
   "metadata": {},
   "outputs": [
    {
     "name": "stdout",
     "output_type": "stream",
     "text": [
      "expected freq is: [25.0, 25.0, 25.0, 25.0, 25.0, 25.0, 25.0, 25.0, 25.0, 25.0, 25.0, 25.0, 25.0, 25.0, 25.0, 25.0, 25.0, 25.0, 25.0, 25.0]\n"
     ]
    }
   ],
   "source": [
    "#expected freq is:\n",
    "exp_freq = []\n",
    "for i in range(interval):\n",
    "    exp_freq.append(freq)\n",
    "print(\"expected freq is:\" , exp_freq)"
   ]
  },
  {
   "cell_type": "code",
   "execution_count": 328,
   "metadata": {},
   "outputs": [],
   "source": [
    "#exponential function\n",
    "def exp_fun(x):\n",
    "    if p>=1:\n",
    "        return float('inf')\n",
    "    else:\n",
    "    #return (-1/L) * (math.log(1-i*(p)))\n",
    "     return  (-1 / L) * (math.log(1 -p))\n",
    "        "
   ]
  },
  {
   "cell_type": "code",
   "execution_count": 329,
   "metadata": {},
   "outputs": [],
   "source": [
    "#find frequency table\n",
    "\n",
    "def freq_count(data, l, u):\n",
    "    count = 0\n",
    "    for i in data:\n",
    "        if l <= i < u:\n",
    "            count += 1\n",
    "    return count"
   ]
  },
  {
   "cell_type": "code",
   "execution_count": 330,
   "metadata": {},
   "outputs": [
    {
     "name": "stdout",
     "output_type": "stream",
     "text": [
      "(0.002-0.2856]: 145\n",
      "(0.2856-0.5692]: 100\n",
      "(0.5692-0.8528]: 53\n",
      "(0.8528-1.1364]: 62\n",
      "(1.1364-1.42]: 43\n",
      "(1.42-1.7036]: 24\n",
      "(1.7036-1.9872]: 18\n",
      "(1.9872-2.2708]: 18\n",
      "(2.2708-2.5544]: 4\n",
      "(2.5544-2.838]: 7\n",
      "(2.838-3.1216]: 4\n",
      "(3.1216-3.4052]: 6\n",
      "(3.4052-3.6888]: 5\n",
      "(3.6888-3.9724]: 5\n",
      "(3.9724-4.256]: 3\n",
      "(4.256-4.5396]: 0\n",
      "(4.5396-4.8232]: 0\n",
      "(4.8232-5.1068]: 1\n",
      "(5.1068-5.3904]: 1\n",
      "(5.3904-5.674]: 1\n"
     ]
    }
   ],
   "source": [
    "upper = max(data)\n",
    "lower = min(data)\n",
    "# Total number of intervals = 20\n",
    "interval = 20\n",
    "interval_size = (upper - lower) / interval  # Corrected calculation\n",
    "\n",
    "freq_interval = {}\n",
    "\n",
    "for x in range(interval):\n",
    "    lower_interval = lower + x * interval_size\n",
    "    upper_interval = lower_interval + interval_size\n",
    "    interval_range = f\"({round(lower_interval, 4)}-{round(upper_interval, 4)}]\"\n",
    "    freq_interval[interval_range] = freq_count(data, lower_interval, upper_interval)\n",
    "\n",
    "# Corrected handling of the last interval\n",
    "if round(upper_interval, 4) <= upper:\n",
    "    freq_interval[list(freq_interval.keys())[-1]] += 1\n",
    "\n",
    "# Print the frequency intervals\n",
    "for interval_range, frequency in freq_interval.items():\n",
    "    print(f\"{interval_range}: {frequency}\")\n"
   ]
  },
  {
   "cell_type": "code",
   "execution_count": 331,
   "metadata": {},
   "outputs": [
    {
     "data": {
      "image/png": "[encoded data removed]",
      "text/plain": [
       "<Figure size 640x480 with 1 Axes>"
      ]
     },
     "metadata": {},
     "output_type": "display_data"
    }
   ],
   "source": [
    "#plot hostrogram\n",
    "# plotting the histogram\n",
    "def plot_histogram(freq_interval , interval):\n",
    "    x = list(freq_interval.keys()) #x = [i for i in range(1, interval  + 1)]\n",
    "    y = list(freq_interval.values())\n",
    "    plt.bar(x ,  y ,  color='g')\n",
    "    plt.show()\n",
    "    return None\n",
    "\n",
    "#func call\n",
    "plot_histogram(freq_interval, interval)"
   ]
  },
  {
   "cell_type": "code",
   "execution_count": 332,
   "metadata": {},
   "outputs": [
    {
     "name": "stdout",
     "output_type": "stream",
     "text": [
      "interval: ['(0.002-0.2856]', '(0.2856-0.5692]', '(0.5692-0.8528]', '(0.8528-1.1364]', '(1.1364-1.42]', '(1.42-1.7036]', '(1.7036-1.9872]', '(1.9872-2.2708]', '(2.2708-2.5544]', '(2.5544-2.838]', '(2.838-3.1216]', '(3.1216-3.4052]', '(3.4052-3.6888]', '(3.6888-3.9724]', '(3.9724-4.256]', '(4.256-4.5396]', '(4.5396-4.8232]', '(4.8232-5.1068]', '(5.1068-5.3904]', '(5.3904-5.674]']\n",
      "freq [145, 100, 53, 62, 43, 24, 18, 18, 4, 7, 4, 6, 5, 5, 3, 0, 0, 1, 1, 1]\n"
     ]
    }
   ],
   "source": [
    "#store interval and obs freq in seperate list--\n",
    "interval = []\n",
    "obs_freq = []\n",
    "\n",
    "for i ,table in freq_interval.items():\n",
    "    interval.append(i)\n",
    "    obs_freq.append(table)\n",
    "print(\"interval:\" ,interval)\n",
    "print(\"freq\",obs_freq) "
   ]
  },
  {
   "cell_type": "code",
   "execution_count": 333,
   "metadata": {},
   "outputs": [],
   "source": [
    "#area under curve--\n",
    "def AUC(fun , a , b , n):\n",
    "    # height of each small trepezium\n",
    "    h = abs(b-a)/n\n",
    "    area = 0 # intilization of area as 0\n",
    "    \n",
    "    # calculating and sum of all small-small trapeziums\n",
    "    for i in range(n):\n",
    "        A = a + i * h\n",
    "        B = a + (i + 1) * h\n",
    "        area += (fun(A) + fun(B)) * h / 2 \n",
    "\n",
    "    return area\n",
    "\n",
    "#example---\n",
    "#def fun(x):\n",
    " #   return x**2\n",
    "\n",
    "#print(AUC(fun, 0, 1, 100))\n",
    "\n"
   ]
  },
  {
   "cell_type": "code",
   "execution_count": 334,
   "metadata": {},
   "outputs": [
    {
     "name": "stdout",
     "output_type": "stream",
     "text": [
      "interval   \t\t Obs_Freq   \t Exp_Freq  \n",
      "(0.002-0.2856] \t 145        \t 25.0      \n",
      "(0.2856-0.5692] \t 100        \t 25.0      \n",
      "(0.5692-0.8528] \t 53         \t 25.0      \n",
      "(0.8528-1.1364] \t 62         \t 25.0      \n",
      "(1.1364-1.42] \t 43         \t 25.0      \n",
      "(1.42-1.7036] \t 24         \t 25.0      \n",
      "(1.7036-1.9872] \t 18         \t 25.0      \n",
      "(1.9872-2.2708] \t 18         \t 25.0      \n",
      "(2.2708-2.5544] \t 4          \t 25.0      \n",
      "(2.5544-2.838] \t 7          \t 25.0      \n",
      "(2.838-3.1216] \t 4          \t 25.0      \n",
      "(3.1216-3.4052] \t 6          \t 25.0      \n",
      "(3.4052-3.6888] \t 5          \t 25.0      \n",
      "(3.6888-3.9724] \t 5          \t 25.0      \n",
      "(3.9724-4.256] \t 3          \t 25.0      \n",
      "(4.256-4.5396] \t 0          \t 25.0      \n",
      "(4.5396-4.8232] \t 0          \t 25.0      \n",
      "(4.8232-5.1068] \t 1          \t 25.0      \n",
      "(5.1068-5.3904] \t 1          \t 25.0      \n",
      "(5.3904-5.674] \t 1          \t 25.0      \n"
     ]
    }
   ],
   "source": [
    "#print(\"lower\\t\\tupper\\t\\tobs_freq\\t\\texp_freq\")\n",
    "#for i in range(len(l)):\n",
    "#    print(l[i],\"\\t\",u[i],\"\\t\",obs_freq[i],\"\\t\",exp_freq[i])\n",
    "\n",
    "\n",
    "print(\"interval\".ljust(10),\"\\t\\t\", \"Obs_Freq\".ljust(10),\"\\t\" ,\"Exp_Freq\".ljust(10))\n",
    "for i in range(len(exp_freq)):\n",
    "    print(str(interval[i]).ljust(10) ,\"\\t\" ,str(obs_freq[i]).ljust(10),\"\\t\", str(exp_freq[i]).ljust(10))\n"
   ]
  },
  {
   "cell_type": "code",
   "execution_count": 335,
   "metadata": {},
   "outputs": [
    {
     "name": "stdout",
     "output_type": "stream",
     "text": [
      "['(0.002-0.2856]', '(0.2856-0.5692]', '(0.5692-0.8528]', '(0.8528-1.1364]', '(1.1364-1.42]', '(1.42-1.7036]', '(1.7036-1.9872]', '(1.9872-2.2708]', '(2.2708-2.5544]', '(2.5544-2.838]', '(2.838-3.1216]', '(3.1216-3.4052]', '(3.4052-3.6888]', '(3.6888-3.9724]', '(3.9724-4.256]', '(4.256-4.5396]', '(4.5396-4.8232]', '(4.8232-5.1068]', '(5.1068-5.3904]', '(5.3904-5.674]']\n",
      "[25.0, 25.0, 25.0, 25.0, 25.0, 25.0, 25.0, 25.0, 25.0, 25.0, 25.0, 25.0, 25.0, 25.0, 25.0, 25.0, 25.0, 25.0, 25.0, 25.0]\n",
      "[145, 100, 53, 62, 43, 24, 18, 18, 4, 7, 4, 6, 5, 5, 3, 0, 0, 1, 1, 1]\n"
     ]
    }
   ],
   "source": [
    "#merge-table----\n",
    "I =[]\n",
    "O =[]\n",
    "E =[]\n",
    "\n",
    "i=0\n",
    "while i<len(exp_freq):\n",
    "# for i in range(len(interval)):\n",
    "    if exp_freq[i] >= 5:\n",
    "        I.append(interval[i])\n",
    "        O.append(obs_freq[i])\n",
    "        E.append(exp_freq[i])\n",
    "        i+=1\n",
    "        \n",
    "    else:\n",
    "        sum_exp = exp_freq[i]\n",
    "        sum_int=interval[i]\n",
    "        sum_obs = obs_freq[i]\n",
    "        # j = i + 1\n",
    "        i+=1\n",
    "        while i < len(exp_freq) and sum_exp <= 5:\n",
    "            sum_exp += exp_freq[i]\n",
    "            sum_int += interval[i]\n",
    "            sum_obs += obs_freq[i]\n",
    "            i += 1\n",
    "        E.append(sum_exp)\n",
    "        O.append(sum_obs)\n",
    "        I.append(sum_int)\n",
    "        # i+=1\n",
    "        \n",
    "#last condition--\n",
    "if E[-1] < 5:\n",
    "    I[-2] = I[-2] + I[-1]\n",
    "    O[-2] = O[-2] + O[-1]\n",
    "    E[-2] = E[-2] + E[-1]\n",
    "    del E[-1]\n",
    "    del O[-1]\n",
    "    del I[-1]\n",
    "\n",
    "    \n",
    "    \n",
    "    \n",
    "            \n",
    "print(I)\n",
    "print(E)\n",
    "print(O)\n"
   ]
  },
  {
   "cell_type": "code",
   "execution_count": 336,
   "metadata": {},
   "outputs": [
    {
     "name": "stdout",
     "output_type": "stream",
     "text": [
      "interval   \t\t Obs_Freq   \t Exp_Freq  \n",
      "(0.002-0.2856] \t 145        \t 25.0      \n",
      "(0.2856-0.5692] \t 100        \t 25.0      \n",
      "(0.5692-0.8528] \t 53         \t 25.0      \n",
      "(0.8528-1.1364] \t 62         \t 25.0      \n",
      "(1.1364-1.42] \t 43         \t 25.0      \n",
      "(1.42-1.7036] \t 24         \t 25.0      \n",
      "(1.7036-1.9872] \t 18         \t 25.0      \n",
      "(1.9872-2.2708] \t 18         \t 25.0      \n",
      "(2.2708-2.5544] \t 4          \t 25.0      \n",
      "(2.5544-2.838] \t 7          \t 25.0      \n",
      "(2.838-3.1216] \t 4          \t 25.0      \n",
      "(3.1216-3.4052] \t 6          \t 25.0      \n",
      "(3.4052-3.6888] \t 5          \t 25.0      \n",
      "(3.6888-3.9724] \t 5          \t 25.0      \n",
      "(3.9724-4.256] \t 3          \t 25.0      \n",
      "(4.256-4.5396] \t 0          \t 25.0      \n",
      "(4.5396-4.8232] \t 0          \t 25.0      \n",
      "(4.8232-5.1068] \t 1          \t 25.0      \n",
      "(5.1068-5.3904] \t 1          \t 25.0      \n",
      "(5.3904-5.674] \t 1          \t 25.0      \n"
     ]
    }
   ],
   "source": [
    "#print(\"lower\\t\\tupper\\t\\tobs_freq\\t\\texp_freq\")\n",
    "#for i in range(len(l)):\n",
    "#    print(l[i],\"\\t\",u[i],\"\\t\",obs_freq[i],\"\\t\",exp_freq[i])\n",
    "\n",
    "\n",
    "print(\"interval\".ljust(10),\"\\t\\t\", \"Obs_Freq\".ljust(10),\"\\t\" ,\"Exp_Freq\".ljust(10))\n",
    "for i in range(len(E)):\n",
    "    print(str(I[i]).ljust(10) ,\"\\t\" ,str(O[i]).ljust(10),\"\\t\", str(E[i]).ljust(10))\n"
   ]
  },
  {
   "cell_type": "code",
   "execution_count": 337,
   "metadata": {},
   "outputs": [],
   "source": [
    "#apply chi square test-------------\n",
    "# chi-sqr = (Oi - Ei)^2 / Ei  \n",
    "\n",
    "def chi_sqr(E , O):\n",
    "    return ((O - E)**2) / E"
   ]
  },
  {
   "cell_type": "code",
   "execution_count": 338,
   "metadata": {},
   "outputs": [
    {
     "name": "stdout",
     "output_type": "stream",
     "text": [
      "[576.0, 225.0, 31.36, 54.76, 12.96, 0.04, 1.96, 1.96, 17.64, 12.96, 17.64, 14.44, 16.0, 16.0, 19.36, 25.0, 25.0, 23.04, 23.04, 23.04]\n"
     ]
    }
   ],
   "source": [
    "chi_test = []\n",
    "\n",
    "for i in range(len(E)):\n",
    "    chi = ((O[i] - E[i])**2) / E[i]\n",
    "    chi_test.append(chi)\n",
    "print(chi_test)"
   ]
  },
  {
   "cell_type": "code",
   "execution_count": 339,
   "metadata": {},
   "outputs": [
    {
     "name": "stdout",
     "output_type": "stream",
     "text": [
      "interval   \t\t Obs_Freq   \t Exp_Freq   \t chi_test  \n",
      "(0.002-0.2856] \t 145        \t 25.0       \t 576.0\n",
      "(0.2856-0.5692] \t 100        \t 25.0       \t 225.0\n",
      "(0.5692-0.8528] \t 53         \t 25.0       \t 31.36\n",
      "(0.8528-1.1364] \t 62         \t 25.0       \t 54.76\n",
      "(1.1364-1.42] \t 43         \t 25.0       \t 12.96\n",
      "(1.42-1.7036] \t 24         \t 25.0       \t 0.04\n",
      "(1.7036-1.9872] \t 18         \t 25.0       \t 1.96\n",
      "(1.9872-2.2708] \t 18         \t 25.0       \t 1.96\n",
      "(2.2708-2.5544] \t 4          \t 25.0       \t 17.64\n",
      "(2.5544-2.838] \t 7          \t 25.0       \t 12.96\n",
      "(2.838-3.1216] \t 4          \t 25.0       \t 17.64\n",
      "(3.1216-3.4052] \t 6          \t 25.0       \t 14.44\n",
      "(3.4052-3.6888] \t 5          \t 25.0       \t 16.0\n",
      "(3.6888-3.9724] \t 5          \t 25.0       \t 16.0\n",
      "(3.9724-4.256] \t 3          \t 25.0       \t 19.36\n",
      "(4.256-4.5396] \t 0          \t 25.0       \t 25.0\n",
      "(4.5396-4.8232] \t 0          \t 25.0       \t 25.0\n",
      "(4.8232-5.1068] \t 1          \t 25.0       \t 23.04\n",
      "(5.1068-5.3904] \t 1          \t 25.0       \t 23.04\n",
      "(5.3904-5.674] \t 1          \t 25.0       \t 23.04\n"
     ]
    }
   ],
   "source": [
    "#print(\"lower\\t\\tupper\\t\\tobs_freq\\t\\texp_freq\")\n",
    "#for i in range(len(l)):\n",
    "#    print(l[i],\"\\t\",u[i],\"\\t\",obs_freq[i],\"\\t\",exp_freq[i])\n",
    "\n",
    "\n",
    "print(\"interval\".ljust(10),\"\\t\\t\", \"Obs_Freq\".ljust(10),\"\\t\" ,\"Exp_Freq\".ljust(10) , \"\\t\" , \"chi_test\".ljust(10))\n",
    "for i in range(len(exp_freq)):\n",
    "    print(str(interval[i]).ljust(10) ,\"\\t\" ,str(obs_freq[i]).ljust(10),\"\\t\", str(exp_freq[i]).ljust(10) , \"\\t\" , chi_test[i])\n"
   ]
  },
  {
   "cell_type": "code",
   "execution_count": 340,
   "metadata": {},
   "outputs": [
    {
     "name": "stdout",
     "output_type": "stream",
     "text": [
      "sum of chi_values is: 1137.2\n"
     ]
    }
   ],
   "source": [
    "#sumation  or chi-value\n",
    "chi_value = sum(chi_test)\n",
    "print(\"sum of chi_values is:\" , chi_value)"
   ]
  },
  {
   "cell_type": "code",
   "execution_count": 341,
   "metadata": {},
   "outputs": [
    {
     "name": "stdout",
     "output_type": "stream",
     "text": [
      "Degree of freedom :  17\n",
      "chi srq value is calculates: 1137.2\n",
      "chi_sqr_value_tqbulated: 27.587\n",
      "Rejected Exponential distribution\n"
     ]
    }
   ],
   "source": [
    "\n",
    "# Calculate the degree of freedom  formula : No_of_intervals - No_of_parameters -1\n",
    "#k = no. if intervals\n",
    "#s = no. of parameters\n",
    "\n",
    "No_of_intervals = len(I)\n",
    "no_of_parameter = 2\n",
    "\n",
    "DOF= No_of_intervals - no_of_parameter- 1\n",
    "\n",
    "#value of alpha is--\n",
    "significance_level=0.05   \n",
    "print(\"Degree of freedom : \",DOF)\n",
    "\n",
    "# calculate chi_squre_value\n",
    "sum_chi_test = sum(chi_test)\n",
    "print(\"chi srq value is calculates:\",sum_chi_test)\n",
    "\n",
    "#----------------------\n",
    "def calculate_tabulated_value(degrees_of_freedom):\n",
    "    switch = {\n",
    "        1: 3.841,\n",
    "        2: 5.991,\n",
    "        3: 7.815,\n",
    "        4: 9.488,\n",
    "        5: 11.070,\n",
    "        6: 12.592,\n",
    "        7: 14.067,\n",
    "        8: 15.507,\n",
    "        9: 16.919,\n",
    "        10: 18.307,\n",
    "        11:19.675,\n",
    "        17:27.587\n",
    "        # Add more cases as needed\n",
    "    }\n",
    "    \n",
    "    return switch.get(degrees_of_freedom, \"Invalid degrees of freedom\")\n",
    "\n",
    "\n",
    "tabulated_value = calculate_tabulated_value(DOF)\n",
    "print(\"chi_sqr_value_tqbulated:\", tabulated_value)\n",
    "\n",
    "   \n",
    "# display output-----\n",
    "if sum_chi_test <= tabulated_value:\n",
    "        print(\"Accepted Exponential distribution\")\n",
    "else:\n",
    "        print(\"Rejected Exponential distribution\")\n"
   ]
  },
  {
   "cell_type": "code",
   "execution_count": null,
   "metadata": {},
   "outputs": [],
   "source": []
  }
 ],
 "metadata": {
  "kernelspec": {
   "display_name": "Python 3",
   "language": "python",
   "name": "python3"
  },
  "language_info": {
   "codemirror_mode": {
    "name": "ipython",
    "version": 3
   },
   "file_extension": ".py",
   "mimetype": "text/x-python",
   "name": "python",
   "nbconvert_exporter": "python",
   "pygments_lexer": "ipython3",
   "version": "3.11.4"
  }
 },
 "nbformat": 4,
 "nbformat_minor": 2
}
