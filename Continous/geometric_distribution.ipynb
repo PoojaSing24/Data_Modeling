{
 "cells": [
  {
   "cell_type": "code",
   "execution_count": 184,
   "metadata": {},
   "outputs": [],
   "source": [
    "#fitting geometric distribution"
   ]
  },
  {
   "cell_type": "code",
   "execution_count": 185,
   "metadata": {},
   "outputs": [],
   "source": [
    "import numpy as np\n",
    "import pandas as pd\n",
    "import matplotlib.pyplot as plt\n",
    "import math\n",
    "from scipy.integrate import quad\n",
    "import csv"
   ]
  },
  {
   "cell_type": "code",
   "execution_count": 186,
   "metadata": {},
   "outputs": [],
   "source": [
    "#import discrete dataset\n",
    "#data = pd.read_csv(\"3.csv\")\n",
    "#data = pd.read_csv(\"6.csv\")\n",
    "#data = pd.read_csv(\"7.csv\")\n",
    "#data = pd.read_csv(\"11.csv\")\n",
    "data = pd.read_csv(\"13.csv\")"
   ]
  },
  {
   "cell_type": "code",
   "execution_count": 187,
   "metadata": {},
   "outputs": [
    {
     "data": {
      "image/png": "[encoded data removed]",
      "text/plain": [
       "<Figure size 640x480 with 1 Axes>"
      ]
     },
     "metadata": {},
     "output_type": "display_data"
    }
   ],
   "source": [
    "#scatter plot\n",
    "N = len(data)\n",
    "datax = data\n",
    "datay = data\n",
    "x = np.delete(datax , 0)\n",
    "y = np.delete(datay , N-1)\n",
    "plt.scatter(x ,y, color = \"red\")\n",
    "plt.show()"
   ]
  },
  {
   "cell_type": "code",
   "execution_count": 188,
   "metadata": {},
   "outputs": [
    {
     "name": "stdout",
     "output_type": "stream",
     "text": [
      "[2, 3, 8, 8, 2, 8, 6, 7, 7, 8, 4, 3, 5, 7, 8, 2, 5, 8, 3, 5, 3, 2, 5, 8, 7, 2, 7, 7, 7, 5, 4, 4, 6, 3, 2, 3, 3, 9, 7, 4, 4, 6, 8, 2, 2, 5, 2, 7, 3, 7, 4, 6, 6, 3, 3, 3, 8, 7, 4, 5, 5, 9, 6, 7, 3, 8, 6, 5, 5, 6, 5, 3, 9, 9, 9, 6, 6, 3, 6, 3, 7, 5, 7, 8, 9, 6, 9, 6, 8, 4, 4, 4, 4, 5, 6, 7, 8, 2, 4, 6, 3, 5, 2, 3, 9, 6, 7, 2, 4, 3, 3, 2, 3, 4, 2, 2, 2, 5, 4, 2, 6, 2, 6, 8, 7, 9, 7, 9, 7, 6, 4, 7, 8, 4, 2, 8, 7, 6, 9, 8, 4, 2, 3, 7, 3, 4, 5, 6, 4, 4, 8, 9, 6, 3, 5, 2, 2, 8, 2, 8, 6, 9, 4, 3, 9, 2, 5, 6, 5, 4, 9, 2, 4, 7, 2, 7, 7, 9, 3, 8, 4, 2, 7, 9, 5, 2, 6, 7, 6, 3, 4, 2, 4, 6, 7, 2, 2, 2, 2, 6, 3, 6, 3, 9, 9, 6, 8, 7, 4, 4, 4, 4, 4, 9, 6, 4, 2, 9, 8, 3, 7, 3, 4, 2, 6, 3, 5, 4, 9, 8, 6, 4, 6, 6, 4, 4, 6, 2, 5, 6, 4, 3, 2, 8, 6, 9, 9, 4, 6, 2, 7, 8, 6, 3, 8, 8, 9, 8, 9, 7, 5, 3, 7, 7, 3, 3, 6, 5, 3, 6, 4, 6, 6, 9, 5, 3, 3, 9, 8, 3, 8, 5, 8, 7, 2, 4, 2, 4, 9, 9, 7, 3, 2, 9, 9, 6, 6, 6, 8, 2, 3, 3, 6, 2, 4, 2, 7, 2, 4, 8, 3, 4, 8, 7, 7, 4, 3, 2, 7, 2, 8, 3, 6, 4, 4, 4, 6, 5, 5, 8, 9, 2, 2, 6, 4, 5, 3, 6, 9, 7, 9, 2, 4, 2, 6, 9, 4, 7, 9, 2, 6, 4, 2, 4, 4, 9, 5, 6, 6, 3, 8, 2, 6, 8, 3, 3, 4, 4, 4, 5, 3, 6, 3, 7, 4, 3, 8, 4, 2, 8, 2, 7, 6, 4, 3, 8, 5, 5, 7, 4, 9, 6, 9, 2, 7, 2, 3, 3, 9, 6, 2, 4, 3, 7, 6, 2, 7, 9, 3, 2, 5, 8, 5, 4, 4, 7, 4, 3, 3, 6, 5, 7, 5, 4, 4, 6, 3, 6, 3, 3, 3, 5, 6, 8, 2, 3, 8, 7, 7, 6, 3, 2, 4, 8, 3, 8, 4, 8, 2, 6, 9, 6, 3, 7, 6, 9, 3, 8, 3, 4, 9, 2, 9, 4, 7, 4, 2, 2, 2, 4, 2, 8, 7, 7, 8, 5, 3, 5, 8, 9, 7, 9, 7, 3, 5, 7, 7, 9, 4, 2, 3, 9, 5, 2, 7, 9, 4, 7, 8, 2]\n"
     ]
    }
   ],
   "source": [
    "#convert given data into 1D array\n",
    "#data = [int(item) for row in csv.reader(open('3.csv' , newline='')) for item in row]\n",
    "#data = [int(item) for row in csv.reader(open('6.csv' , newline='')) for item in row]\n",
    "#data = [int(item) for row in csv.reader(open('7.csv' , newline='')) for item in row]\n",
    "#data = [int(item) for row in csv.reader(open('11.csv' , newline='')) for item in row]\n",
    "data = [int(item) for row in csv.reader(open('13.csv' , newline='')) for item in row]\n",
    "print(data)"
   ]
  },
  {
   "cell_type": "code",
   "execution_count": 189,
   "metadata": {},
   "outputs": [
    {
     "name": "stdout",
     "output_type": "stream",
     "text": [
      "interval\tfreq\n",
      "2 \t 72\n",
      "3 \t 73\n",
      "8 \t 53\n",
      "6 \t 70\n",
      "7 \t 62\n",
      "4 \t 77\n",
      "5 \t 42\n",
      "9 \t 51\n"
     ]
    }
   ],
   "source": [
    "#find frq table\n",
    "def freq_table(data):\n",
    "    table = {}\n",
    "    for i in data:\n",
    "        if i in table:\n",
    "            table[i] = table[i] + 1\n",
    "        else:\n",
    "            table[i] = 1\n",
    "    return table\n",
    "\n",
    "result = freq_table(data)\n",
    "print(\"interval\\tfreq\")\n",
    "\n",
    "for i , table in result.items():\n",
    "    print(i , \"\\t\" , table)\n",
    "    \n",
    "#interval and freq_table in array\n",
    "interval = []\n",
    "freq =[]\n",
    "for i ,table in result.items():\n",
    "    interval.append(i)\n",
    "    freq.append(table)\n",
    "#print(\"interval:\" ,interval)\n",
    "#print(\"freq\",freq)    "
   ]
  },
  {
   "cell_type": "code",
   "execution_count": 190,
   "metadata": {},
   "outputs": [
    {
     "data": {
      "image/png": "[encoded data removed]",
      "text/plain": [
       "<Figure size 640x480 with 1 Axes>"
      ]
     },
     "metadata": {},
     "output_type": "display_data"
    }
   ],
   "source": [
    "#plot_histogram--\n",
    "x =interval\n",
    "y = freq\n",
    "plt.bar(x, y, color='blue')\n",
    "plt.show()\n",
    "\n",
    "#baar plot\n",
    "#plt.bar( x , y)\n",
    "#plt.show()"
   ]
  },
  {
   "cell_type": "code",
   "execution_count": 191,
   "metadata": {},
   "outputs": [
    {
     "name": "stdout",
     "output_type": "stream",
     "text": [
      "lower limit : 2\n",
      "upper limit: 9\n"
     ]
    }
   ],
   "source": [
    "#find min and max \n",
    "lower = min(data)\n",
    "print(\"lower limit :\" , lower)\n",
    "upper = max(data)\n",
    "print(\"upper limit:\" , upper)"
   ]
  },
  {
   "cell_type": "code",
   "execution_count": 192,
   "metadata": {},
   "outputs": [
    {
     "name": "stdout",
     "output_type": "stream",
     "text": [
      "total freq : 500\n",
      "mean: 5.236\n",
      "variance: 5.200304\n",
      "succes : 0.19098548510313218\n",
      "total: 8\n"
     ]
    }
   ],
   "source": [
    "#find mean \n",
    "sum_fi = sum(freq)\n",
    "print(\"total freq :\",sum_fi)\n",
    "\n",
    "sum_fixi = 0\n",
    "for i in range(len(interval)):\n",
    "    sum_fixi = sum_fixi + (interval[i] * freq[i])\n",
    "    \n",
    "mean = sum_fixi / sum_fi\n",
    "print(\"mean:\" , mean)\n",
    " \n",
    " \n",
    "#variance-- \n",
    "var =0\n",
    "for x in range(len(interval)):\n",
    "    var = var +  freq[x]  * (interval[x] - mean)**2\n",
    "#print(var)\n",
    "\n",
    "variance = var / sum_fi\n",
    "#variance = np.var(data)\n",
    "print(\"variance:\" ,variance)  \n",
    "\n",
    " \n",
    " # succes = p\n",
    " #in geometric distributuion\n",
    " #mean = 1 /p   \n",
    " \n",
    "p = 1 / mean\n",
    "print(\"succes :\",p)\n",
    "#print(1- p)\n",
    "\n",
    "#total freq\n",
    "N =len(interval)\n",
    "print(\"total:\" ,N)\n",
    " "
   ]
  },
  {
   "cell_type": "code",
   "execution_count": 193,
   "metadata": {},
   "outputs": [
    {
     "name": "stdout",
     "output_type": "stream",
     "text": [
      "probability values:\n",
      "[0.12500085662983468, 0.10112750738807864, 0.035047001775500485, 0.0535473821217536, 0.043320609371227704, 0.08181362133229585, 0.06618840717410336, 0.028353533139996192]\n"
     ]
    }
   ],
   "source": [
    "#geometric distrubutin\n",
    "geo_value =[]\n",
    "\n",
    "def geometric(p):\n",
    "    for x in interval:\n",
    "        geo = (((1- p)**x )* p)\n",
    "        geo_value.append(geo)\n",
    "    return geo_value\n",
    "\n",
    "result = geometric(p)\n",
    "print(\"probability values:\")\n",
    "print(result)\n",
    "        "
   ]
  },
  {
   "cell_type": "code",
   "execution_count": 194,
   "metadata": {},
   "outputs": [
    {
     "name": "stdout",
     "output_type": "stream",
     "text": [
      "exp_freq is: [62.500428314917336, 50.56375369403932, 17.52350088775024, 26.7736910608768, 21.660304685613852, 40.906810666147926, 33.09420358705168, 14.176766569998096]\n"
     ]
    }
   ],
   "source": [
    "#find expected freq\n",
    "for x in range(len(result)):\n",
    "    result[x] = result[x] * sum_fi\n",
    "print(\"exp_freq is:\",result)"
   ]
  },
  {
   "cell_type": "code",
   "execution_count": 195,
   "metadata": {},
   "outputs": [
    {
     "name": "stdout",
     "output_type": "stream",
     "text": [
      "interval \t  obs_frq  \t  exp_frq\n",
      "2 \t\t 72 \t\t 62.500428314917336\n",
      "3 \t\t 73 \t\t 50.56375369403932\n",
      "8 \t\t 53 \t\t 17.52350088775024\n",
      "6 \t\t 70 \t\t 26.7736910608768\n",
      "7 \t\t 62 \t\t 21.660304685613852\n",
      "4 \t\t 77 \t\t 40.906810666147926\n",
      "5 \t\t 42 \t\t 33.09420358705168\n",
      "9 \t\t 51 \t\t 14.176766569998096\n"
     ]
    }
   ],
   "source": [
    "exp = result\n",
    "obs = freq\n",
    "\n",
    "print(\"interval \\t  obs_frq  \\t  exp_frq\")\n",
    "\n",
    "for i in range(len(interval)):\n",
    "    print(interval[i], \"\\t\\t\", obs[i], \"\\t\\t\", exp[i])"
   ]
  },
  {
   "cell_type": "code",
   "execution_count": 196,
   "metadata": {},
   "outputs": [
    {
     "name": "stdout",
     "output_type": "stream",
     "text": [
      "[2, 3, 8, 6, 7, 4, 5, 9]\n",
      "[62.500428314917336, 50.56375369403932, 17.52350088775024, 26.7736910608768, 21.660304685613852, 40.906810666147926, 33.09420358705168, 14.176766569998096]\n",
      "[72, 73, 53, 70, 62, 77, 42, 51]\n"
     ]
    }
   ],
   "source": [
    "#merge-table----\n",
    "I =[]\n",
    "O =[]\n",
    "E =[]\n",
    "\n",
    "i=0\n",
    "while i<len(exp):\n",
    "# for i in range(len(interval)):\n",
    "    if exp[i] >= 5:\n",
    "        I.append(interval[i])\n",
    "        O.append(obs[i])\n",
    "        E.append(exp[i])\n",
    "        i+=1\n",
    "        \n",
    "    else:\n",
    "        sum_exp = exp[i]\n",
    "        sum_int=interval[i]\n",
    "        sum_obs = obs[i]\n",
    "        # j = i + 1\n",
    "        i+=1\n",
    "        while i < len(exp) and sum_exp <= 5:\n",
    "            sum_exp += exp[i]\n",
    "            sum_int += interval[i]\n",
    "            sum_obs += obs[i]\n",
    "            i += 1\n",
    "        E.append(sum_exp)\n",
    "        O.append(sum_obs)\n",
    "        I.append(sum_int)\n",
    "        # i+=1\n",
    "        \n",
    "#last condition--\n",
    "if E[-1] < 5:\n",
    "    I[-2] = I[-2] + I[-1]\n",
    "    O[-2] = O[-2] + O[-1]\n",
    "    E[-2] = E[-2] + E[-1]\n",
    "    del E[-1]\n",
    "    del O[-1]\n",
    "    del I[-1]\n",
    "\n",
    "    \n",
    "    \n",
    "    \n",
    "            \n",
    "print(I)\n",
    "print(E)\n",
    "print(O)\n"
   ]
  },
  {
   "cell_type": "code",
   "execution_count": 197,
   "metadata": {},
   "outputs": [
    {
     "name": "stdout",
     "output_type": "stream",
     "text": [
      "interval \t  obs_frq  \t  exp_frq\n",
      "2 \t\t 72 \t\t 62.500428314917336\n",
      "3 \t\t 73 \t\t 50.56375369403932\n",
      "8 \t\t 53 \t\t 17.52350088775024\n",
      "6 \t\t 70 \t\t 26.7736910608768\n",
      "7 \t\t 62 \t\t 21.660304685613852\n",
      "4 \t\t 77 \t\t 40.906810666147926\n",
      "5 \t\t 42 \t\t 33.09420358705168\n",
      "9 \t\t 51 \t\t 14.176766569998096\n"
     ]
    }
   ],
   "source": [
    "print(\"interval \\t  obs_frq  \\t  exp_frq\")\n",
    "\n",
    "for i in range(len(I)):\n",
    "    print(I[i], \"\\t\\t\", O[i], \"\\t\\t\", E[i])"
   ]
  },
  {
   "cell_type": "code",
   "execution_count": 198,
   "metadata": {},
   "outputs": [],
   "source": [
    "#aplay chi-sqr test\n",
    "def chi_sqr(E , O):\n",
    "    return ((O - E)**2) / E"
   ]
  },
  {
   "cell_type": "code",
   "execution_count": 199,
   "metadata": {},
   "outputs": [
    {
     "name": "stdout",
     "output_type": "stream",
     "text": [
      "[1.4438599003726467, 9.955454481241876, 71.82251978777062, 69.78917401608842, 75.12779906269311, 31.846000582180473, 2.3965891652372306, 95.64596507570147]\n"
     ]
    }
   ],
   "source": [
    "chi_test = []\n",
    "\n",
    "for i in range(len(E)):\n",
    "    chi = ((O[i] - E[i])**2) / E[i]\n",
    "    chi_test.append(chi)\n",
    "print(chi_test)"
   ]
  },
  {
   "cell_type": "code",
   "execution_count": 200,
   "metadata": {},
   "outputs": [
    {
     "name": "stdout",
     "output_type": "stream",
     "text": [
      "interval \t  Oi  \t\t\t  Ei \t\t\t (Oi-Ei)^2/Ei\n",
      "2 \t\t 72 \t\t 62.500428314917336 \t\t 1.4438599003726467\n",
      "3 \t\t 73 \t\t 50.56375369403932 \t\t 9.955454481241876\n",
      "8 \t\t 53 \t\t 17.52350088775024 \t\t 71.82251978777062\n",
      "6 \t\t 70 \t\t 26.7736910608768 \t\t 69.78917401608842\n",
      "7 \t\t 62 \t\t 21.660304685613852 \t\t 75.12779906269311\n",
      "4 \t\t 77 \t\t 40.906810666147926 \t\t 31.846000582180473\n",
      "5 \t\t 42 \t\t 33.09420358705168 \t\t 2.3965891652372306\n",
      "9 \t\t 51 \t\t 14.176766569998096 \t\t 95.64596507570147\n"
     ]
    }
   ],
   "source": [
    "print(\"interval \\t  Oi  \\t\\t\\t  Ei \\t\\t\\t (Oi-Ei)^2/Ei\")\n",
    "\n",
    "for i in range(len(I)):\n",
    "    print(I[i], \"\\t\\t\", O[i], \"\\t\\t\", E[i] , \"\\t\\t\" , chi_test[i])"
   ]
  },
  {
   "cell_type": "code",
   "execution_count": 201,
   "metadata": {},
   "outputs": [
    {
     "name": "stdout",
     "output_type": "stream",
     "text": [
      "Degree of freedom :  6\n",
      "sum of chi_sqr calculated value:  358.0273620712859\n",
      "chi-Square value in table :  12.592\n",
      "Rejected Geometric distribution\n"
     ]
    }
   ],
   "source": [
    "# Calculate the degree of freedom  formula : No_of_intervals -\n",
    "No_of_intervals = len(I)\n",
    "no_of_parameter = 1\n",
    "\n",
    "degree_of_freedom = No_of_intervals - no_of_parameter- 1\n",
    "\n",
    "#value of alpha is--\n",
    "significance_level=0.05   \n",
    "print(\"Degree of freedom : \",degree_of_freedom)\n",
    "#-------------------------------------------------------\n",
    "\n",
    "# calculate chi_squre_value\n",
    "sum_chi_test = sum(chi_test)\n",
    "print(\"sum of chi_sqr calculated value: \",sum_chi_test)\n",
    "#----------------------------------------------------------------\n",
    "\n",
    "# chi_square value in table on given significate level\n",
    "chi_square_value_in_table = 12.592        #for 3.csv   , 13.csv\n",
    "#chi_square_value_in_table = 5.991        #for 6.csv\n",
    "#chi_square_value_in_table = 15.507      #for 7.csv , 11.csv\n",
    "\n",
    "\n",
    "print(\"chi-Square value in table : \",chi_square_value_in_table)\n",
    "\n",
    "if sum_chi_test <= chi_square_value_in_table:\n",
    "   print(\"Accepted Geometric distribution\")\n",
    "else:\n",
    "   print(\"Rejected Geometric distribution\")"
   ]
  },
  {
   "cell_type": "code",
   "execution_count": null,
   "metadata": {},
   "outputs": [],
   "source": []
  }
 ],
 "metadata": {
  "kernelspec": {
   "display_name": "Python 3",
   "language": "python",
   "name": "python3"
  },
  "language_info": {
   "codemirror_mode": {
    "name": "ipython",
    "version": 3
   },
   "file_extension": ".py",
   "mimetype": "text/x-python",
   "name": "python",
   "nbconvert_exporter": "python",
   "pygments_lexer": "ipython3",
   "version": "3.11.4"
  }
 },
 "nbformat": 4,
 "nbformat_minor": 2
}
