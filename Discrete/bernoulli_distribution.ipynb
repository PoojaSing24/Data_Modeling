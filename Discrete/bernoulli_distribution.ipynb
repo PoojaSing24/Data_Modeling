{
 "cells": [
  {
   "cell_type": "code",
   "execution_count": 41,
   "metadata": {},
   "outputs": [],
   "source": [
    "#fitting bernoulli distribution"
   ]
  },
  {
   "cell_type": "code",
   "execution_count": 42,
   "metadata": {},
   "outputs": [],
   "source": [
    "import numpy as np\n",
    "import pandas as pd\n",
    "import matplotlib.pyplot as plt\n",
    "import math\n",
    "from scipy.integrate import quad\n",
    "import csv"
   ]
  },
  {
   "cell_type": "code",
   "execution_count": 43,
   "metadata": {},
   "outputs": [],
   "source": [
    "#import discrete dataset\n",
    "data = pd.read_csv(\"3.csv\")\n",
    "#data = pd.read_csv(\"6.csv\")\n",
    "#data = pd.read_csv(\"7.csv\")\n",
    "#data = pd.read_csv(\"11.csv\")\n",
    "#data = pd.read_csv(\"13.csv\")"
   ]
  },
  {
   "cell_type": "code",
   "execution_count": 44,
   "metadata": {},
   "outputs": [
    {
     "data": {
      "image/png": "[encoded data removed]",
      "text/plain": [
       "<Figure size 640x480 with 1 Axes>"
      ]
     },
     "metadata": {},
     "output_type": "display_data"
    }
   ],
   "source": [
    "#scatter plot\n",
    "N = len(data)\n",
    "datax = data\n",
    "datay = data\n",
    "x = np.delete(datax , 0)\n",
    "y = np.delete(datay , N-1)\n",
    "plt.scatter(x ,y, color = \"red\")\n",
    "plt.show()"
   ]
  },
  {
   "cell_type": "code",
   "execution_count": 45,
   "metadata": {},
   "outputs": [
    {
     "name": "stdout",
     "output_type": "stream",
     "text": [
      "[0, 1, 4, 4, 1, 4, 3, 3, 3, 4, 1, 1, 2, 3, 4, 0, 2, 4, 1, 2, 1, 0, 2, 4, 3, 1, 3, 3, 3, 2, 2, 1, 2, 1, 0, 1, 1, 4, 3, 2, 1, 2, 4, 1, 0, 2, 1, 3, 1, 3, 2, 3, 3, 1, 1, 1, 3, 3, 2, 2, 2, 4, 3, 3, 1, 3, 3, 2, 2, 2, 2, 1, 5, 5, 5, 2, 3, 1, 3, 1, 3, 2, 3, 4, 6, 3, 6, 3, 4, 2, 2, 2, 2, 2, 3, 3, 4, 0, 2, 3, 1, 2, 0, 1, 6, 2, 3, 1, 2, 1, 1, 1, 1, 1, 1, 0, 0, 2, 2, 0, 3, 1, 2, 3, 3, 6, 3, 4, 3, 2, 2, 3, 4, 1, 1, 4, 3, 2, 5, 3, 2, 0, 1, 3, 1, 2, 2, 3, 1, 2, 4, 4, 3, 1, 2, 0, 0, 4, 1, 4, 3, 5, 2, 1, 5, 0, 2, 3, 2, 2, 4, 0, 2, 3, 0, 3, 3, 5, 1, 4, 2, 1, 3, 6, 2, 0, 3, 3, 3, 1, 1, 0, 2, 2, 3, 0, 1, 1, 1, 3, 1, 3, 1, 5, 5, 3, 4, 3, 2, 2, 2, 2, 1, 5, 3, 1, 0, 5, 4, 1, 3, 1, 2, 1, 3, 1, 2, 2, 5, 4, 2, 2, 3, 3, 2, 1, 3, 0, 2, 3, 2, 1, 1, 4, 3, 6, 6, 2, 2, 0, 3, 4, 2, 1, 4, 4, 5, 4, 7, 3, 2, 1, 3, 3, 1, 1, 2, 2, 1, 3, 2, 3, 2, 4, 2, 1, 1, 4, 4, 1, 4, 2, 4, 3, 0, 2, 1, 1, 5, 6, 3, 1, 1, 6, 5, 3, 3, 3, 4, 0, 1, 1, 2, 0, 2, 0, 3, 1, 2, 4, 1, 2, 4, 3, 3, 2, 1, 0, 3, 0, 4, 1, 3, 2, 2, 2, 2, 2, 2, 4, 6, 0, 0, 3, 2, 2, 1, 3, 4, 3, 6, 0, 2, 0, 3, 4, 2, 3, 6, 0, 3, 2, 1, 2, 2, 6, 2, 3, 3, 1, 4, 1, 2, 4, 1, 1, 2, 2, 2, 2, 1, 3, 1, 3, 2, 1, 3, 1, 0, 4, 1, 3, 2, 2, 1, 4, 2, 2, 3, 2, 6, 3, 6, 0, 3, 1, 1, 1, 8, 2, 1, 2, 1, 3, 3, 1, 3, 4, 1, 1, 2, 4, 2, 2, 1, 3, 1, 1, 1, 3, 2, 3, 2, 2, 2, 2, 1, 2, 1, 1, 1, 2, 3, 4, 1, 1, 4, 3, 3, 2, 1, 1, 2, 4, 1, 4, 2, 4, 1, 2, 5, 2, 1, 3, 3, 4, 1, 4, 1, 2, 6, 0, 5, 2, 3, 2, 1, 1, 1, 2, 1, 4, 3, 3, 4, 2, 1, 2, 4, 6, 3, 5, 3, 1, 2, 3, 3, 6, 1, 1, 1, 7, 2, 0, 3, 6, 2, 3, 3, 0]\n"
     ]
    }
   ],
   "source": [
    "#convert given data into 1D array\n",
    "data = [int(item) for row in csv.reader(open('3.csv' , newline='')) for item in row]\n",
    "#data = [int(item) for row in csv.reader(open('6.csv' , newline='')) for item in row]\n",
    "#data = [int(item) for row in csv.reader(open('7.csv' , newline='')) for item in row]\n",
    "#data = [int(item) for row in csv.reader(open('11.csv' , newline='')) for item in row]\n",
    "#data = [int(item) for row in csv.reader(open('13.csv' , newline='')) for item in row]\n",
    "print(data)"
   ]
  },
  {
   "cell_type": "code",
   "execution_count": 46,
   "metadata": {},
   "outputs": [
    {
     "name": "stdout",
     "output_type": "stream",
     "text": [
      "interval\tfreq\n",
      "0 \t 38\n",
      "1 \t 122\n",
      "4 \t 58\n",
      "3 \t 114\n",
      "2 \t 128\n",
      "5 \t 18\n",
      "6 \t 19\n",
      "7 \t 2\n",
      "8 \t 1\n"
     ]
    }
   ],
   "source": [
    "#freq table---------------\n",
    "def freq_table(data):\n",
    "    table = {}\n",
    "    for i in data:\n",
    "        if i in table:\n",
    "            table[i] = table[i] + 1\n",
    "        else:\n",
    "            table[i] =1\n",
    "    return table\n",
    "\n",
    "result = freq_table(data)  #func call\n",
    "\n",
    "print(\"interval\\tfreq\")\n",
    "for i ,table in result.items():\n",
    "    print(i,\"\\t\" ,table)\n",
    "    \n",
    "#interval and freq_table in array\n",
    "interval = []\n",
    "freq =[]\n",
    "for i ,table in result.items():\n",
    "    interval.append(i)\n",
    "    freq.append(table)\n",
    "#print(\"interval:\" ,interval)\n",
    "#print(\"freq\",freq) "
   ]
  },
  {
   "cell_type": "code",
   "execution_count": 47,
   "metadata": {},
   "outputs": [
    {
     "data": {
      "image/png": "[encoded data removed]",
      "text/plain": [
       "<Figure size 640x480 with 1 Axes>"
      ]
     },
     "metadata": {},
     "output_type": "display_data"
    }
   ],
   "source": [
    "#plot_histogram--\n",
    "x =interval\n",
    "y = freq\n",
    "plt.bar(x, y, color='blue')\n",
    "plt.show()"
   ]
  },
  {
   "cell_type": "code",
   "execution_count": 48,
   "metadata": {},
   "outputs": [
    {
     "name": "stdout",
     "output_type": "stream",
     "text": [
      "lower limit : 0\n",
      "upper limit: 8\n"
     ]
    }
   ],
   "source": [
    "#find min and max \n",
    "lower = min(data)\n",
    "print(\"lower limit :\" , lower)\n",
    "upper = max(data)\n",
    "print(\"upper limit:\" , upper)"
   ]
  },
  {
   "cell_type": "code",
   "execution_count": 49,
   "metadata": {},
   "outputs": [
    {
     "name": "stdout",
     "output_type": "stream",
     "text": [
      "total freq : 500\n",
      "mean: 2.356\n",
      "succes : 2.356\n",
      "total: 9\n"
     ]
    }
   ],
   "source": [
    "#find mean \n",
    "sum_fi = sum(freq)\n",
    "print(\"total freq :\",sum_fi)\n",
    "\n",
    "sum_fixi = 0\n",
    "for i in range(len(interval)):\n",
    "    sum_fixi = sum_fixi + (interval[i] * freq[i])\n",
    "    \n",
    "mean = sum_fixi / sum_fi\n",
    "#mean= np.mean(data)\n",
    "print(\"mean:\" , mean)\n",
    "\n",
    "#---------------------------------------\n",
    " \n",
    "# succes = p\n",
    " #mean = p\n",
    "p = mean\n",
    "print(\"succes :\",p)\n",
    "#print(1- p)\n",
    "\n",
    "#total freq\n",
    "N =len(interval)\n",
    "print(\"total:\" ,N)"
   ]
  },
  {
   "cell_type": "code",
   "execution_count": 50,
   "metadata": {},
   "outputs": [
    {
     "name": "stdout",
     "output_type": "stream",
     "text": [
      "probability values:\n",
      "[0.0, -5.5507, 5.6095, -8.2303, 1.9761, -13.1572, 12.2905, -22.2166, 24.575]\n"
     ]
    }
   ],
   "source": [
    "#bernaulli distrubutin\n",
    "#pdf = f(x k) = (1-p)^(k-1) .p\n",
    " \n",
    "pdf_value =[]\n",
    "\n",
    "def bernoulli_pdf(p):\n",
    "    for x in interval:\n",
    "        pdf = round((((1- p)**x-1 )* p) , 4)\n",
    "        pdf_value.append(pdf)\n",
    "    return pdf_value\n",
    "\n",
    "result = bernoulli_pdf(p) \n",
    "print(\"probability values:\")\n",
    "print(result)\n",
    "        "
   ]
  },
  {
   "cell_type": "code",
   "execution_count": 51,
   "metadata": {},
   "outputs": [
    {
     "name": "stdout",
     "output_type": "stream",
     "text": [
      "exp_freq is: [0.0, -2775.35, 2804.75, -4115.15, 988.05, -6578.599999999999, 6145.25, -11108.3, 12287.5]\n"
     ]
    }
   ],
   "source": [
    "#find expected freq\n",
    "for x in range(len(result)):\n",
    "    result[x] = result[x] * sum_fi \n",
    "print(\"exp_freq is:\",result)"
   ]
  },
  {
   "cell_type": "code",
   "execution_count": 52,
   "metadata": {},
   "outputs": [
    {
     "name": "stdout",
     "output_type": "stream",
     "text": [
      "interval \t  obs_frq  \t  exp_frq\n",
      "0 \t\t 38 \t\t 0.0\n",
      "1 \t\t 122 \t\t -2775.35\n",
      "4 \t\t 58 \t\t 2804.75\n",
      "3 \t\t 114 \t\t -4115.15\n",
      "2 \t\t 128 \t\t 988.05\n",
      "5 \t\t 18 \t\t -6578.599999999999\n",
      "6 \t\t 19 \t\t 6145.25\n",
      "7 \t\t 2 \t\t -11108.3\n",
      "8 \t\t 1 \t\t 12287.5\n"
     ]
    }
   ],
   "source": [
    "#display interval , obs freq , exp freq--\n",
    "exp = result\n",
    "obs = freq\n",
    "\n",
    "print(\"interval \\t  obs_frq  \\t  exp_frq\")\n",
    "\n",
    "for i in range(len(interval)):\n",
    "    print(interval[i], \"\\t\\t\", obs[i], \"\\t\\t\", exp[i])"
   ]
  },
  {
   "cell_type": "code",
   "execution_count": null,
   "metadata": {},
   "outputs": [],
   "source": []
  }
 ],
 "metadata": {
  "kernelspec": {
   "display_name": "Python 3",
   "language": "python",
   "name": "python3"
  },
  "language_info": {
   "codemirror_mode": {
    "name": "ipython",
    "version": 3
   },
   "file_extension": ".py",
   "mimetype": "text/x-python",
   "name": "python",
   "nbconvert_exporter": "python",
   "pygments_lexer": "ipython3",
   "version": "3.11.4"
  }
 },
 "nbformat": 4,
 "nbformat_minor": 2
}
