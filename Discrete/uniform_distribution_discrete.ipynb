{
 "cells": [
  {
   "cell_type": "code",
   "execution_count": 1,
   "metadata": {},
   "outputs": [],
   "source": [
    "#Uniform distribution - for discrete dataset"
   ]
  },
  {
   "cell_type": "code",
   "execution_count": 2,
   "metadata": {},
   "outputs": [],
   "source": [
    "import numpy as np\n",
    "import pandas as pd\n",
    "import matplotlib.pyplot as plt\n",
    "import csv"
   ]
  },
  {
   "cell_type": "code",
   "execution_count": 3,
   "metadata": {},
   "outputs": [],
   "source": [
    "#import discrete dataset\n",
    "#data = pd.read_csv(\"3.csv\")"
   ]
  },
  {
   "cell_type": "code",
   "execution_count": 4,
   "metadata": {},
   "outputs": [
    {
     "name": "stdout",
     "output_type": "stream",
     "text": [
      "[0, 1, 6, 5, 1, 5, 3, 4, 5, 5, 2, 1, 2, 4, 5, 0, 3, 5, 1, 3, 1, 0, 3, 5, 5, 1, 5, 4, 4, 3, 2, 2, 3, 1, 0, 1, 1, 6, 4, 2, 2, 3, 6, 1, 0, 2, 1, 4, 1, 4, 2, 3, 4, 1, 1, 1, 5, 4, 2, 2, 3, 6, 3, 4, 1, 5, 4, 3, 3, 3, 3, 1, 7, 8, 8, 3, 3, 1, 3, 1, 4, 3, 4, 5, 8, 3, 9, 3, 6, 2, 2, 2, 2, 3, 4, 4, 6, 0, 2, 4, 1, 3, 0, 1, 9, 3, 4, 1, 2, 1, 1, 1, 1, 2, 1, 0, 1, 2, 2, 0, 4, 1, 3, 5, 4, 8, 4, 6, 5, 3, 2, 5, 5, 2, 1, 5, 4, 3, 7, 5, 2, 0, 1, 4, 1, 2, 3, 4, 2, 2, 5, 6, 3, 1, 3, 0, 0, 5, 1, 5, 3, 7, 2, 1, 7, 0, 2, 3, 3, 2, 6, 0, 2, 5, 0, 4, 4, 8, 1, 5, 2, 1, 4, 9, 2, 0, 3, 4, 4, 1, 2, 0, 2, 3, 4, 0, 1, 1, 1, 4, 1, 3, 1, 8, 6, 4, 6, 4, 2, 2, 2, 2, 2, 7, 3, 2, 0, 7, 6, 1, 5, 1, 2, 1, 3, 1, 3, 2, 6, 5, 3, 2, 4, 4, 2, 2, 4, 1, 2, 3, 2, 1, 1, 6, 3, 9, 9, 2, 3, 0, 4, 5, 3, 1, 6, 5, 6, 5, 11, 4, 3, 2, 5, 4, 2, 1, 3, 2, 1, 4, 2, 4, 3, 6, 2, 1, 1, 6, 6, 1, 6, 3, 5, 4, 0, 2, 1, 2, 6, 8, 5, 2, 1, 8, 7, 3, 4, 3, 5, 0, 1, 2, 3, 0, 2, 0, 4, 1, 2, 5, 1, 2, 5, 5, 4, 2, 1, 0, 4, 0, 5, 1, 4, 2, 2, 2, 3, 3, 2, 5, 9, 0, 0, 3, 2, 2, 1, 3, 6, 4, 8, 0, 2, 0, 3, 6, 2, 5, 9, 0, 4, 2, 1, 2, 2, 8, 3, 4, 4, 1, 5, 1, 3, 5, 1, 1, 2, 2, 2, 3, 1, 3, 1, 4, 2, 1, 5, 2, 0, 5, 1, 4, 3, 2, 1, 6, 3, 3, 4, 2, 9, 3, 9, 0, 4, 1, 1, 1, 12, 3, 1, 2, 2, 4, 3, 1, 4, 6, 1, 1, 2, 5, 2, 2, 2, 4, 2, 1, 1, 4, 3, 4, 3, 2, 2, 3, 1, 3, 1, 1, 1, 3, 4, 6, 1, 1, 5, 4, 4, 3, 1, 1, 2, 6, 1, 5, 2, 5, 1, 3, 7, 3, 1, 5, 3, 6, 2, 5, 1, 2, 9, 0, 7, 2, 4, 2, 1, 1, 1, 2, 1, 5, 4, 4, 5, 2, 1, 2, 5, 9, 4, 7, 4, 1, 3, 5, 4, 8, 2, 1, 1, 11, 2, 0, 5, 10, 2, 4, 5, 0]\n"
     ]
    }
   ],
   "source": [
    "#convert given data into 1D array\n",
    "data = [int(item) for row in csv.reader(open('7.csv' , newline='')) for item in row]\n",
    "print(data)"
   ]
  },
  {
   "cell_type": "code",
   "execution_count": 5,
   "metadata": {},
   "outputs": [
    {
     "data": {
      "image/png": "[encoded data removed]",
      "text/plain": [
       "<Figure size 640x480 with 1 Axes>"
      ]
     },
     "metadata": {},
     "output_type": "display_data"
    }
   ],
   "source": [
    "#scatter plot\n",
    "N =len(data)\n",
    "datax=data\n",
    "datay=data\n",
    "x = np.delete(datax ,0)\n",
    "y = np.delete(datay , N-1)\n",
    "\n",
    "plt.scatter(x , y , c=\"red\")\n",
    "plt.show()"
   ]
  },
  {
   "cell_type": "code",
   "execution_count": 6,
   "metadata": {},
   "outputs": [
    {
     "name": "stdout",
     "output_type": "stream",
     "text": [
      "interval\tfreq\n",
      "0 \t\t 36\n",
      "1 \t\t 103\n",
      "6 \t\t 28\n",
      "5 \t\t 54\n",
      "3 \t\t 75\n",
      "4 \t\t 69\n",
      "2 \t\t 99\n",
      "7 \t\t 10\n",
      "8 \t\t 11\n",
      "9 \t\t 11\n",
      "11 \t\t 2\n",
      "12 \t\t 1\n",
      "10 \t\t 1\n"
     ]
    }
   ],
   "source": [
    "#find frequncy table--\n",
    "def freq_table(data):\n",
    "    table = {}\n",
    "    for i in data:\n",
    "        if i in table:\n",
    "            table[i] = table[i] + 1\n",
    "        else:\n",
    "            table[i] =1\n",
    "    return table\n",
    "\n",
    "result = freq_table(data)\n",
    "print(\"interval\\tfreq\")\n",
    "for i ,table in result.items():\n",
    "    print(i,\"\\t\\t\",table)\n",
    "\n",
    "    \n",
    "#interval and freq_table in array\n",
    "interval = []\n",
    "freq =[]\n",
    "for i ,table in result.items():\n",
    "    interval.append(i)\n",
    "    freq.append(table)\n",
    "#print(\"interval:\" ,interval)\n",
    "#print(\"freq\",freq)   "
   ]
  },
  {
   "cell_type": "code",
   "execution_count": 7,
   "metadata": {},
   "outputs": [
    {
     "data": {
      "image/png": "[encoded data removed]",
      "text/plain": [
       "<Figure size 640x480 with 1 Axes>"
      ]
     },
     "metadata": {},
     "output_type": "display_data"
    }
   ],
   "source": [
    "#plot_histogram--\n",
    "x =interval\n",
    "y = freq\n",
    "plt.bar(x, y, color='blue')\n",
    "plt.show()\n",
    "\n",
    "#baar plot\n",
    "#plt.bar( x , y)\n",
    "#plt.show()"
   ]
  },
  {
   "cell_type": "code",
   "execution_count": 8,
   "metadata": {},
   "outputs": [
    {
     "name": "stdout",
     "output_type": "stream",
     "text": [
      "lower limit : 0\n",
      "upper limit: 12\n"
     ]
    }
   ],
   "source": [
    "#find min and max \n",
    "lower = min(data)\n",
    "print(\"lower limit :\" , lower)\n",
    "upper = max(data)\n",
    "print(\"upper limit:\" , upper)\n"
   ]
  },
  {
   "cell_type": "code",
   "execution_count": 9,
   "metadata": {},
   "outputs": [
    {
     "name": "stdout",
     "output_type": "stream",
     "text": [
      "13\n"
     ]
    }
   ],
   "source": [
    "# a and b are two parameters\n",
    "\n",
    "b = upper\n",
    "a = lower \n",
    " \n",
    "n = b - a + 1\n",
    "print(n)"
   ]
  },
  {
   "cell_type": "code",
   "execution_count": 10,
   "metadata": {},
   "outputs": [
    {
     "name": "stdout",
     "output_type": "stream",
     "text": [
      "mean: 6.0\n",
      "variance : 168.91666666666666\n"
     ]
    }
   ],
   "source": [
    "#find mean and variance--\n",
    "# mean =  a + b / 2 \n",
    "mean = a + b / 2 \n",
    "print(\"mean:\" , mean)\n",
    "\n",
    "#variance--\n",
    "variance = (n**2) - 1 / 12 \n",
    "print(\"variance :\", variance)"
   ]
  },
  {
   "cell_type": "code",
   "execution_count": 11,
   "metadata": {},
   "outputs": [],
   "source": [
    "#pmf of discrete uniform distribution--\n",
    "#pmf_uniform = 1 / n   # 1 / b - a + 1\n",
    "#x =  a ,a+1 .a+2 , a+2 ...., (a+n-1)=b"
   ]
  },
  {
   "cell_type": "code",
   "execution_count": 12,
   "metadata": {},
   "outputs": [],
   "source": [
    "#pmf of uniform distribution--\n",
    "def pmf_uniform(n):\n",
    "    return 1 / b - a + 1\n"
   ]
  },
  {
   "cell_type": "code",
   "execution_count": 13,
   "metadata": {},
   "outputs": [],
   "source": [
    "#put value of x\n",
    "# x = a , a+1 , a+2 , .........(a+n-1)\n",
    "x = a\n",
    "while x <= n:\n",
    "    pmf_value = pmf_uniform(x)\n",
    "    x = a + 1"
   ]
  }
 ],
 "metadata": {
  "kernelspec": {
   "display_name": "Python 3",
   "language": "python",
   "name": "python3"
  },
  "language_info": {
   "codemirror_mode": {
    "name": "ipython",
    "version": 3
   },
   "file_extension": ".py",
   "mimetype": "text/x-python",
   "name": "python",
   "nbconvert_exporter": "python",
   "pygments_lexer": "ipython3",
   "version": "3.11.4"
  }
 },
 "nbformat": 4,
 "nbformat_minor": 2
}
