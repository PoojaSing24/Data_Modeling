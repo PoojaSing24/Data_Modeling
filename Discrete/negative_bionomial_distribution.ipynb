{
 "cells": [
  {
   "cell_type": "code",
   "execution_count": 1,
   "metadata": {},
   "outputs": [],
   "source": [
    "#negative bionomial distribution"
   ]
  },
  {
   "cell_type": "code",
   "execution_count": 2,
   "metadata": {},
   "outputs": [],
   "source": [
    "import numpy as np\n",
    "import pandas as pd\n",
    "import matplotlib.pyplot  as plt\n",
    "import csv"
   ]
  },
  {
   "cell_type": "code",
   "execution_count": 3,
   "metadata": {},
   "outputs": [],
   "source": [
    "#data = pd.read_csv(\"3.csv\")\n",
    "#print(data)"
   ]
  },
  {
   "cell_type": "code",
   "execution_count": 4,
   "metadata": {},
   "outputs": [
    {
     "name": "stdout",
     "output_type": "stream",
     "text": [
      "[0, 1, 4, 4, 1, 4, 3, 3, 3, 4, 1, 1, 2, 3, 4, 0, 2, 4, 1, 2, 1, 0, 2, 4, 3, 1, 3, 3, 3, 2, 2, 1, 2, 1, 0, 1, 1, 4, 3, 2, 1, 2, 4, 1, 0, 2, 1, 3, 1, 3, 2, 3, 3, 1, 1, 1, 3, 3, 2, 2, 2, 4, 3, 3, 1, 3, 3, 2, 2, 2, 2, 1, 5, 5, 5, 2, 3, 1, 3, 1, 3, 2, 3, 4, 6, 3, 6, 3, 4, 2, 2, 2, 2, 2, 3, 3, 4, 0, 2, 3, 1, 2, 0, 1, 6, 2, 3, 1, 2, 1, 1, 1, 1, 1, 1, 0, 0, 2, 2, 0, 3, 1, 2, 3, 3, 6, 3, 4, 3, 2, 2, 3, 4, 1, 1, 4, 3, 2, 5, 3, 2, 0, 1, 3, 1, 2, 2, 3, 1, 2, 4, 4, 3, 1, 2, 0, 0, 4, 1, 4, 3, 5, 2, 1, 5, 0, 2, 3, 2, 2, 4, 0, 2, 3, 0, 3, 3, 5, 1, 4, 2, 1, 3, 6, 2, 0, 3, 3, 3, 1, 1, 0, 2, 2, 3, 0, 1, 1, 1, 3, 1, 3, 1, 5, 5, 3, 4, 3, 2, 2, 2, 2, 1, 5, 3, 1, 0, 5, 4, 1, 3, 1, 2, 1, 3, 1, 2, 2, 5, 4, 2, 2, 3, 3, 2, 1, 3, 0, 2, 3, 2, 1, 1, 4, 3, 6, 6, 2, 2, 0, 3, 4, 2, 1, 4, 4, 5, 4, 7, 3, 2, 1, 3, 3, 1, 1, 2, 2, 1, 3, 2, 3, 2, 4, 2, 1, 1, 4, 4, 1, 4, 2, 4, 3, 0, 2, 1, 1, 5, 6, 3, 1, 1, 6, 5, 3, 3, 3, 4, 0, 1, 1, 2, 0, 2, 0, 3, 1, 2, 4, 1, 2, 4, 3, 3, 2, 1, 0, 3, 0, 4, 1, 3, 2, 2, 2, 2, 2, 2, 4, 6, 0, 0, 3, 2, 2, 1, 3, 4, 3, 6, 0, 2, 0, 3, 4, 2, 3, 6, 0, 3, 2, 1, 2, 2, 6, 2, 3, 3, 1, 4, 1, 2, 4, 1, 1, 2, 2, 2, 2, 1, 3, 1, 3, 2, 1, 3, 1, 0, 4, 1, 3, 2, 2, 1, 4, 2, 2, 3, 2, 6, 3, 6, 0, 3, 1, 1, 1, 8, 2, 1, 2, 1, 3, 3, 1, 3, 4, 1, 1, 2, 4, 2, 2, 1, 3, 1, 1, 1, 3, 2, 3, 2, 2, 2, 2, 1, 2, 1, 1, 1, 2, 3, 4, 1, 1, 4, 3, 3, 2, 1, 1, 2, 4, 1, 4, 2, 4, 1, 2, 5, 2, 1, 3, 3, 4, 1, 4, 1, 2, 6, 0, 5, 2, 3, 2, 1, 1, 1, 2, 1, 4, 3, 3, 4, 2, 1, 2, 4, 6, 3, 5, 3, 1, 2, 3, 3, 6, 1, 1, 1, 7, 2, 0, 3, 6, 2, 3, 3, 0]\n"
     ]
    }
   ],
   "source": [
    "#convert given data into 1D array\n",
    "data = [int(item) for row in csv.reader(open('3.csv' , newline='')) for item in row]\n",
    "print(data)"
   ]
  },
  {
   "cell_type": "code",
   "execution_count": 5,
   "metadata": {},
   "outputs": [
    {
     "data": {
      "image/png": "[encoded data removed]",
      "text/plain": [
       "<Figure size 640x480 with 1 Axes>"
      ]
     },
     "metadata": {},
     "output_type": "display_data"
    }
   ],
   "source": [
    "#scatter plot\n",
    "N =len(data)\n",
    "datax=data\n",
    "datay=data\n",
    "x = np.delete(datax ,0)\n",
    "y = np.delete(datay , N-1)\n",
    "\n",
    "plt.scatter(x , y , c=\"red\")\n",
    "plt.show()"
   ]
  },
  {
   "cell_type": "code",
   "execution_count": 6,
   "metadata": {},
   "outputs": [
    {
     "name": "stdout",
     "output_type": "stream",
     "text": [
      "interval\tfreq\n",
      "0 \t\t 38\n",
      "1 \t\t 122\n",
      "4 \t\t 58\n",
      "3 \t\t 114\n",
      "2 \t\t 128\n",
      "5 \t\t 18\n",
      "6 \t\t 19\n",
      "7 \t\t 2\n",
      "8 \t\t 1\n"
     ]
    }
   ],
   "source": [
    "#find frequncy table--\n",
    "def freq_table(data):\n",
    "    table = {}\n",
    "    for i in data:\n",
    "        if i in table:\n",
    "            table[i] = table[i] + 1\n",
    "        else:\n",
    "            table[i] =1\n",
    "    return table\n",
    "\n",
    "result = freq_table(data)\n",
    "print(\"interval\\tfreq\")\n",
    "for i ,table in result.items():\n",
    "    print(i,\"\\t\\t\",table)\n",
    "    \n",
    "    #interval and freq_table in array\n",
    "    \n",
    "interval = []\n",
    "freq =[]\n",
    "for i ,table in result.items():\n",
    "    interval.append(i)\n",
    "    freq.append(table)\n",
    "#print(\"interval:\" ,interval)\n",
    "#print(\"freq\",freq)   "
   ]
  },
  {
   "cell_type": "code",
   "execution_count": 7,
   "metadata": {},
   "outputs": [
    {
     "data": {
      "image/png": "[encoded data removed]",
      "text/plain": [
       "<Figure size 640x480 with 1 Axes>"
      ]
     },
     "metadata": {},
     "output_type": "display_data"
    }
   ],
   "source": [
    "#plot_histogram--\n",
    "x =interval\n",
    "y = freq\n",
    "plt.bar(x, y, color='blue')\n",
    "plt.show()\n",
    "\n",
    "#baar plot\n",
    "#plt.bar( x , y)\n",
    "#plt.show()"
   ]
  },
  {
   "cell_type": "code",
   "execution_count": 8,
   "metadata": {},
   "outputs": [
    {
     "name": "stdout",
     "output_type": "stream",
     "text": [
      "lower limit : 0\n",
      "upper limit: 8\n"
     ]
    }
   ],
   "source": [
    "#find min and max \n",
    "lower = min(data)\n",
    "print(\"lower limit :\" , lower)\n",
    "upper = max(data)\n",
    "print(\"upper limit:\" , upper)\n"
   ]
  },
  {
   "cell_type": "code",
   "execution_count": 9,
   "metadata": {},
   "outputs": [
    {
     "name": "stdout",
     "output_type": "stream",
     "text": [
      "total freq : 500\n",
      "mean: 2.356\n",
      "variance: 2.217264\n",
      "success : 0.005\n",
      "failure: 0.995\n",
      "total: 9\n"
     ]
    }
   ],
   "source": [
    "#find mean and variance of given data\n",
    "\n",
    "sum_fi = sum(freq)\n",
    "print(\"total freq :\",sum_fi)\n",
    "\n",
    "sum_fixi = 0\n",
    "for i in range(len(interval)):\n",
    "    sum_fixi = sum_fixi + (interval[i] * freq[i])\n",
    "    \n",
    "mean = sum_fixi / sum_fi\n",
    "#mean = np.mean(data)\n",
    "print(\"mean:\" , mean)\n",
    "   \n",
    "   \n",
    "#find variance\n",
    "#variance = sum(x - mean)^2 \"/N   \n",
    "\n",
    "var =0\n",
    "for x in range(len(interval)):\n",
    "    var = var +  freq[x]  * (interval[x] - mean)**2\n",
    "#print(var)\n",
    "\n",
    "variance = var / sum_fi\n",
    "#variance = np.var(data)\n",
    "print(\"variance:\" ,variance) \n",
    "\n",
    "#find probability p\n",
    "#mean = np -> p=mean/n   \n",
    " \n",
    "p = round(mean / N , 3)\n",
    "print(\"success :\", p)\n",
    "\n",
    "#q is failure\n",
    "q =(1 - p)\n",
    "print(\"failure:\" , q)\n",
    "\n",
    "N = len(interval)\n",
    "print(\"total:\" ,N)"
   ]
  },
  {
   "cell_type": "code",
   "execution_count": 10,
   "metadata": {},
   "outputs": [
    {
     "name": "stdout",
     "output_type": "stream",
     "text": [
      "p : 1.06257080798678\n",
      "s: -40.0093414831047\n"
     ]
    }
   ],
   "source": [
    "#for negative bionomial\n",
    "# 2 parameters = 1. p  and 2.  s = no. of trial gets k success\n",
    "\n",
    "#mean = s(1 -p )\"/P  \n",
    "#var = s(1 - p) / p2\n",
    "# mean / var = p we get\n",
    "\n",
    "#find value of p =p is probability of fixed success \n",
    "p = mean / variance\n",
    "print(\"p :\" , p)\n",
    "\n",
    "#find value of s\n",
    "#mean = s(1-p) / p  => s = (mean * p ) / (1-p)\n",
    "s = (mean *p) / (1 - p)\n",
    "print(\"s:\" , s)\n",
    "\n"
   ]
  },
  {
   "cell_type": "code",
   "execution_count": 11,
   "metadata": {},
   "outputs": [],
   "source": [
    "def factorial(N):\n",
    "    fact = 1\n",
    "    i = 1\n",
    "    while i <= N:\n",
    "        fact *= i\n",
    "        i += 1\n",
    "    return fact\n",
    "\n",
    "#print(factorial(5))  # Output: 120\n"
   ]
  },
  {
   "cell_type": "code",
   "execution_count": 12,
   "metadata": {},
   "outputs": [],
   "source": [
    "\n",
    "#ncx (combination function)\n",
    "#M = s+x-1\n",
    "\n",
    "def combination(M , x):\n",
    "    if x==0 or x==M:\n",
    "        return 1\n",
    "    else:\n",
    "        return factorial( M)//(factorial(x) * factorial(M - x))   "
   ]
  },
  {
   "cell_type": "code",
   "execution_count": 13,
   "metadata": {},
   "outputs": [
    {
     "name": "stdout",
     "output_type": "stream",
     "text": [
      "pdf_values is: [0.08819390323468275, -0.005518363784901985, 0.0, -0.0, 0.0, -0.0, 0.0, -0.0, 0.0]\n"
     ]
    }
   ],
   "source": [
    "#negative bionomial distribution is:\n",
    "#f(x) = (s+x-1)comb(x) * p^s * (1- p)^ x\n",
    "pdf_value = []\n",
    "\n",
    "def negative_bio(x):\n",
    "    for x in interval:\n",
    "        comb = combination(s+x-1 , x)\n",
    "        pdf = comb  * (p**s) *(1-p)**x\n",
    "        pdf_value.append(pdf)\n",
    "    return pdf_value\n",
    "\n",
    "result = negative_bio(x)\n",
    "print(\"pdf_values is:\", result)\n"
   ]
  },
  {
   "cell_type": "code",
   "execution_count": 14,
   "metadata": {},
   "outputs": [
    {
     "name": "stdout",
     "output_type": "stream",
     "text": [
      "Expected freq : [44.096951617341375, -2.759181892450992, 0.0, -0.0, 0.0, -0.0, 0.0, -0.0, 0.0]\n"
     ]
    }
   ],
   "source": [
    "#expected value\n",
    "for x in range(len(pdf_value)):\n",
    "    pdf_value[x] = pdf_value[x] * sum_fi\n",
    "    \n",
    "print(\"Expected freq :\" ,pdf_value)"
   ]
  },
  {
   "cell_type": "code",
   "execution_count": 15,
   "metadata": {},
   "outputs": [
    {
     "name": "stdout",
     "output_type": "stream",
     "text": [
      "interval: [0, 1, 4, 3, 2, 5, 6, 7, 8]\n",
      "obs_frq: [38, 122, 58, 114, 128, 18, 19, 2, 1]\n",
      "exp_frq: [44.096951617341375, -2.759181892450992, 0.0, -0.0, 0.0, -0.0, 0.0, -0.0, 0.0]\n"
     ]
    }
   ],
   "source": [
    "#display interval , obs_frq , exp_frq in colum wise\n",
    "print(\"interval:\" ,interval)\n",
    "print(\"obs_frq:\" ,freq)\n",
    "print(\"exp_frq:\", pdf_value)"
   ]
  },
  {
   "cell_type": "code",
   "execution_count": 16,
   "metadata": {},
   "outputs": [
    {
     "name": "stdout",
     "output_type": "stream",
     "text": [
      "interval \t  obs_frq  \t  exp_frq\n",
      "0 \t\t 38 \t\t 44.096951617341375\n",
      "1 \t\t 122 \t\t -2.759181892450992\n",
      "4 \t\t 58 \t\t 0.0\n",
      "3 \t\t 114 \t\t -0.0\n",
      "2 \t\t 128 \t\t 0.0\n",
      "5 \t\t 18 \t\t -0.0\n",
      "6 \t\t 19 \t\t 0.0\n",
      "7 \t\t 2 \t\t -0.0\n",
      "8 \t\t 1 \t\t 0.0\n"
     ]
    }
   ],
   "source": [
    "print(\"interval \\t  obs_frq  \\t  exp_frq\")\n",
    "\n",
    "for i in range(len(interval)):\n",
    "    print(interval[i], \"\\t\\t\", freq[i], \"\\t\\t\", pdf_value[i])"
   ]
  },
  {
   "cell_type": "code",
   "execution_count": 17,
   "metadata": {},
   "outputs": [
    {
     "name": "stdout",
     "output_type": "stream",
     "text": [
      "[36]\n",
      "[41.337769724890386]\n",
      "[500]\n"
     ]
    }
   ],
   "source": [
    "#megrge table----\n",
    "#input\n",
    "interval \n",
    "obs = freq\n",
    "exp =pdf_value\n",
    "I =[]\n",
    "O =[]\n",
    "E =[]\n",
    "\n",
    "i=0\n",
    "while i < len(exp):\n",
    "# for i in range(len(interval)):\n",
    "    if exp[i] >= 5:\n",
    "        I.append(interval[i])\n",
    "        O.append(obs[i])\n",
    "        E.append(exp[i])\n",
    "        i+=1\n",
    "        \n",
    "    else:\n",
    "        sum_exp = exp[i]\n",
    "        sum_int=interval[i]\n",
    "        sum_obs = obs[i]\n",
    "        # j = i + 1\n",
    "        i+=1\n",
    "        while i < len(exp) and sum_exp <= 5:\n",
    "            sum_exp += exp[i]\n",
    "            sum_int += interval[i]\n",
    "            sum_obs += obs[i]\n",
    "            i += 1\n",
    "        E.append(sum_exp)\n",
    "        O.append(sum_obs)\n",
    "        I.append(sum_int)\n",
    "        # i+=1\n",
    "        \n",
    "#last condition--\n",
    "if E[-1] < 5:\n",
    "    I[-2] = I[-2] + I[-1]\n",
    "    O[-2] = O[-2] + O[-1]\n",
    "    E[-2] = E[-2] + E[-1]\n",
    "    del E[-1]\n",
    "    del O[-1]\n",
    "    del I[-1]\n",
    "\n",
    "#print after merge             \n",
    "print(I)\n",
    "print(E)\n",
    "print(O)\n"
   ]
  },
  {
   "cell_type": "code",
   "execution_count": 18,
   "metadata": {},
   "outputs": [],
   "source": [
    "#print(\"interval \\t  obs_frq  \\t  exp_frq\")\n",
    "\n",
    "#for i in range(len(interval)):\n",
    "    #print(I[i], \"\\t\\t\", O[i], \"\\t\\t\", E[i])"
   ]
  },
  {
   "cell_type": "code",
   "execution_count": 19,
   "metadata": {},
   "outputs": [],
   "source": [
    "\n",
    "#aplay chi-sqr test\n",
    "def chi_sqr(E , O):\n",
    "    return ((O - E)**2) / E\n"
   ]
  },
  {
   "cell_type": "code",
   "execution_count": 20,
   "metadata": {},
   "outputs": [
    {
     "name": "stdout",
     "output_type": "stream",
     "text": [
      "[5089.07575036078]\n"
     ]
    }
   ],
   "source": [
    "chi_test = []\n",
    "\n",
    "for i in range(len(E)):\n",
    "    chi = ((O[i] - E[i])**2) / E[i]\n",
    "    chi_test.append(chi)\n",
    "print(chi_test)"
   ]
  },
  {
   "cell_type": "code",
   "execution_count": 21,
   "metadata": {},
   "outputs": [
    {
     "name": "stdout",
     "output_type": "stream",
     "text": [
      "5089.07575036078\n"
     ]
    }
   ],
   "source": [
    "sum_chi_test = sum(chi_test)\n",
    "print(sum_chi_test)"
   ]
  },
  {
   "cell_type": "code",
   "execution_count": 22,
   "metadata": {},
   "outputs": [
    {
     "name": "stdout",
     "output_type": "stream",
     "text": [
      "Degree of freedom :  -2\n",
      "5089.07575036078\n"
     ]
    }
   ],
   "source": [
    "# Calculate the degree of freedom  formula : No_of_intervals - No_of_parameters -1\n",
    "No_of_intervals = len(I)\n",
    "#print(No_of_intervals)\n",
    "no_of_parameter = 2\n",
    "\n",
    "degree_of_freedom = No_of_intervals - no_of_parameter- 1\n",
    "\n",
    "#value of alpha is--\n",
    "significance_level=0.05   \n",
    "print(\"Degree of freedom : \",degree_of_freedom)\n",
    "\n",
    "# calculate chi_squre_value\n",
    "sum_chi_test = sum(chi_test)\n",
    "print(sum_chi_test)\n",
    "\n",
    "\n",
    "# chi_square value in table on given significate level\n",
    "#chi_square_value_in_table = #-- write value in table\n",
    "#print(\"chi-Square value in table : \",chi_square_value_in_table)\n",
    "\n",
    "#if sum_chi_test <= chi_square_value_in_table:\n",
    " #  print(\"Accepted Negative  Binomial distribution\")\n",
    "#else:\n",
    " #  print(\"Rejected Negative  Binomial distribution\")"
   ]
  }
 ],
 "metadata": {
  "kernelspec": {
   "display_name": "Python 3",
   "language": "python",
   "name": "python3"
  },
  "language_info": {
   "codemirror_mode": {
    "name": "ipython",
    "version": 3
   },
   "file_extension": ".py",
   "mimetype": "text/x-python",
   "name": "python",
   "nbconvert_exporter": "python",
   "pygments_lexer": "ipython3",
   "version": "3.11.4"
  }
 },
 "nbformat": 4,
 "nbformat_minor": 2
}
