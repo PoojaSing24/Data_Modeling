#bionomial distribution - discrete dataset
import numpy as np
import pandas as pd
import matplotlib.pyplot as plt
import csv
#import discrete dataset
#data = pd.read_csv("3.csv")
#convert given data into 1D array
data = [int(item) for row in csv.reader(open('7.csv' , newline='')) for item in row]
print(data)
#scatter plot
N =len(data)
datax=data
datay=data
x = np.delete(datax ,0)
y = np.delete(datay , N-1)

plt.scatter(x , y , c="red")
plt.show()
#find frequncy table--
def freq_table(data):
    table = {}
    for i in data:
        if i in table:
            table[i] = table[i] + 1
        else:
            table[i] =1
    return table

result = freq_table(data)
print("interval\tfreq")
for i ,table in result.items():
    print(i,"\t\t",table)

    
#interval and freq_table in array
interval = []
freq =[]
for i ,table in result.items():
    interval.append(i)
    freq.append(table)
#print("interval:" ,interval)
#print("freq",freq)   
#plot_histogram--
x =interval
y = freq
plt.bar(x, y, color='blue')
plt.show()

#baar plot
#plt.bar( x , y)
#plt.show()
#find min and max 
lower = min(data)
print("lower limit :" , lower)
upper = max(data)
print("upper limit:" , upper)

#find mean and variance of given data
#mean------------------------------------
sum_fi = sum(freq)
print("total freq :",sum_fi)

sum_fixi = 0
for i in range(len(interval)):
    sum_fixi = sum_fixi + (interval[i] * freq[i])
    
mean = sum_fixi / sum_fi
#mean = np.mean(data)
print("mean:" , mean)
 
#find variance----------------------------------------
#variance = sum(x - mean)^2 "/N   

var =0
for x in range(len(interval)):
    var = var +  freq[x]  * (interval[x] - mean)**2
#print(var)

variance = var / sum_fi
#variance = np.var(data)
print("variance:" ,variance)   

#find probability p-------------------------------------------------------
#mean = np -> p=mean/n   
 
p = round(mean / N , 3)
print("success :", p)

#q is failure
q =(1 - p)
print("failure:" , q)

N = len(interval)
print("total:" ,N)
#factorial
def factorial(N):
    if N == 0:
        return 1
    else:
        return  N * factorial(N -1)
#ncx (combination function)
def combination(N ,x):
    if x==0 or x==N:
        return 1
    else:
        return factorial( N)//(factorial(x) * factorial(N - x))
#pmf of bionomail distribution
#p(X =x) = ncx.p^x . (1-p)^(n-x)

def binomial_pmf(p ,N):
    pmf_value =[]
    for x in interval:
        pmf = round((combination(N, x) )* (p ** x) * (1-p)**(N -x) ,3)
        #pmf = round((combination(N, x) )* (p ** x) * (1-p)**(N -x) , 4)
        #pmf1 = pmf * sum_fi
        pmf_value.append(pmf)
    return pmf_value


pdf_value = binomial_pmf(p  , N)
print("pmf_values is:")
print(pdf_value)
#find expected freq table
for x in range(len(pdf_value)):
    pdf_value[x] = pdf_value[x] * sum_fi
    
print("Expected freq :" ,pdf_value)
#display interval , obs_frq , exp_frq in colum wise
print("interval:" ,interval)
print("obs_frq:" ,freq)
print("exp_frq:", pdf_value)
print("interval \t  obs_frq  \t  exp_frq")

for i in range(len(interval)):
    print(interval[i], "\t\t", freq[i], "\t\t", pdf_value[i])
#megrge table----
#input
interval 
obs = freq
exp =pdf_value
I =[]
O =[]
E =[]

i=0
while i < len(exp):
# for i in range(len(interval)):
    if exp[i] >= 5:
        I.append(interval[i])
        O.append(obs[i])
        E.append(exp[i])
        i+=1
        
    else:
        sum_exp = exp[i]
        sum_int=interval[i]
        sum_obs = obs[i]
        # j = i + 1
        i+=1
        while i < len(exp) and sum_exp <= 5:
            sum_exp += exp[i]
            sum_int += interval[i]
            sum_obs += obs[i]
            i += 1
        E.append(sum_exp)
        O.append(sum_obs)
        I.append(sum_int)
        # i+=1
        
#last condition--
if E[-1] < 5:
    I[-2] = I[-2] + I[-1]
    O[-2] = O[-2] + O[-1]
    E[-2] = E[-2] + E[-1]
    del E[-1]
    del O[-1]
    del I[-1]

              
print(I)
print(E)
print(O)

#display table--after merge--
print("interval \t  obs_frq  \t  exp_frq")

for i in range(len(I)):
    print(I[i], "\t\t", E[i], "\t\t", O[i])
#aplay chi-sqr test
def chi_sqr(E , O):
    return ((O - E)**2) / E

chi_test = []

for i in range(len(E)):
    chi = ((O[i] - E[i])**2) / E[i]
    chi_test.append(chi)
print(chi_test)
#display table--after merge--
print("interval \t  Oi  \t \t Ei \t\t (Oi-Ei^2)/Ei")

for i in range(len(I)):
    print(I[i], "\t\t", O[i], "\t\t", E[i] , "\t\t" , chi_test[i])
#sumation  or chi-value
chi_value = sum(chi_test)
print("sum of chi_values is:" , chi_value)
# Calculate the degree of freedom  formula : No_of_intervals - No_of_parameters -1
#k = no. if intervals
#s = no. of parameters

No_of_intervals = len(I)
no_of_parameter = 2

DOF= No_of_intervals - no_of_parameter- 1

#value of alpha is--
significance_level=0.05   
print("Degree of freedom : ",DOF)

# calculate chi_squre_value
sum_chi_test = sum(chi_test)
print("chi srq value is calculates:",sum_chi_test)

#----------------------
def calculate_tabulated_value(degrees_of_freedom):
    switch = {
        1: 3.841,
        2: 5.991,
        3: 7.815,
        4: 9.488,
        5: 11.070,
        6: 12.592,
        7: 14.067,
        8: 15.507,
        9: 16.919,
        10: 18.307,
        # Add more cases as needed
    }
    
    return switch.get(degrees_of_freedom, "Invalid degrees of freedom")


tabulated_value = calculate_tabulated_value(DOF)
print("chi_sqr_value_tqbulated:", tabulated_value)

   
# display output-----
if sum_chi_test <= tabulated_value:
        print("Accepted Bionomial distribution")
else:
        print("Rejected Bionomial distribution")






#if value of dgree of freedom is negative then we can not find value of chi square in table
 
